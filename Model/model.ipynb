{
 "cells": [
  {
   "cell_type": "code",
   "execution_count": 1,
   "id": "51e5a455",
   "metadata": {
    "id": "51e5a455"
   },
   "outputs": [],
   "source": [
    "import numpy as np\n",
    "import pandas as pd\n",
    "import seaborn as sns\n",
    "import matplotlib.pyplot as plt\n",
    "\n",
    "from sklearn.ensemble import IsolationForest\n",
    "from sklearn.preprocessing import StandardScaler, Normalizer, OneHotEncoder\n",
    "from sklearn.model_selection import train_test_split, RandomizedSearchCV\n",
    "from sklearn.linear_model import LogisticRegression\n",
    "from sklearn.tree import DecisionTreeClassifier\n",
    "from sklearn.ensemble import RandomForestClassifier\n",
    "from xgboost import XGBClassifier\n",
    "from sklearn.svm import SVC\n",
    "from sklearn.metrics import confusion_matrix, f1_score, accuracy_score, classification_report\n",
    "from sklearn.utils import resample\n",
    "\n",
    "import tensorflow as tf\n",
    "from tensorflow.keras import regularizers\n",
    "from tensorflow.keras.utils import to_categorical, plot_model\n",
    "from tensorflow.keras.models import Sequential\n",
    "from tensorflow.keras.layers import Dense, SimpleRNN\n",
    "from tensorflow.keras.optimizers import Adam\n",
    "from tensorflow.keras.losses import BinaryCrossentropy\n",
    "\n",
    "# Ignore warnings\n",
    "import warnings\n",
    "warnings.filterwarnings('ignore')\n",
    "\n",
    "%matplotlib inline"
   ]
  },
  {
   "cell_type": "code",
   "execution_count": 31,
   "id": "c4ea0dfc",
   "metadata": {
    "colab": {
     "base_uri": "https://localhost:8080/",
     "height": 226
    },
    "id": "c4ea0dfc",
    "outputId": "334caacf-9f5c-46e1-82cb-59e3d36bc24d"
   },
   "outputs": [
    {
     "data": {
      "text/html": [
       "<div>\n",
       "<style scoped>\n",
       "    .dataframe tbody tr th:only-of-type {\n",
       "        vertical-align: middle;\n",
       "    }\n",
       "\n",
       "    .dataframe tbody tr th {\n",
       "        vertical-align: top;\n",
       "    }\n",
       "\n",
       "    .dataframe thead th {\n",
       "        text-align: right;\n",
       "    }\n",
       "</style>\n",
       "<table border=\"1\" class=\"dataframe\">\n",
       "  <thead>\n",
       "    <tr style=\"text-align: right;\">\n",
       "      <th></th>\n",
       "      <th>credit.policy</th>\n",
       "      <th>purpose</th>\n",
       "      <th>int.rate</th>\n",
       "      <th>installment</th>\n",
       "      <th>log.annual.inc</th>\n",
       "      <th>dti</th>\n",
       "      <th>fico</th>\n",
       "      <th>days.with.cr.line</th>\n",
       "      <th>revol.bal</th>\n",
       "      <th>revol.util</th>\n",
       "      <th>inq.last.6mths</th>\n",
       "      <th>delinq.2yrs</th>\n",
       "      <th>pub.rec</th>\n",
       "      <th>not.fully.paid</th>\n",
       "    </tr>\n",
       "  </thead>\n",
       "  <tbody>\n",
       "    <tr>\n",
       "      <th>0</th>\n",
       "      <td>1</td>\n",
       "      <td>debt_consolidation</td>\n",
       "      <td>0.1189</td>\n",
       "      <td>829.10</td>\n",
       "      <td>11.350407</td>\n",
       "      <td>19.48</td>\n",
       "      <td>737</td>\n",
       "      <td>5639.958333</td>\n",
       "      <td>28854</td>\n",
       "      <td>52.1</td>\n",
       "      <td>0</td>\n",
       "      <td>0</td>\n",
       "      <td>0</td>\n",
       "      <td>0</td>\n",
       "    </tr>\n",
       "    <tr>\n",
       "      <th>1</th>\n",
       "      <td>1</td>\n",
       "      <td>credit_card</td>\n",
       "      <td>0.1071</td>\n",
       "      <td>228.22</td>\n",
       "      <td>11.082143</td>\n",
       "      <td>14.29</td>\n",
       "      <td>707</td>\n",
       "      <td>2760.000000</td>\n",
       "      <td>33623</td>\n",
       "      <td>76.7</td>\n",
       "      <td>0</td>\n",
       "      <td>0</td>\n",
       "      <td>0</td>\n",
       "      <td>0</td>\n",
       "    </tr>\n",
       "    <tr>\n",
       "      <th>2</th>\n",
       "      <td>1</td>\n",
       "      <td>debt_consolidation</td>\n",
       "      <td>0.1357</td>\n",
       "      <td>366.86</td>\n",
       "      <td>10.373491</td>\n",
       "      <td>11.63</td>\n",
       "      <td>682</td>\n",
       "      <td>4710.000000</td>\n",
       "      <td>3511</td>\n",
       "      <td>25.6</td>\n",
       "      <td>1</td>\n",
       "      <td>0</td>\n",
       "      <td>0</td>\n",
       "      <td>0</td>\n",
       "    </tr>\n",
       "    <tr>\n",
       "      <th>3</th>\n",
       "      <td>1</td>\n",
       "      <td>debt_consolidation</td>\n",
       "      <td>0.1008</td>\n",
       "      <td>162.34</td>\n",
       "      <td>11.350407</td>\n",
       "      <td>8.10</td>\n",
       "      <td>712</td>\n",
       "      <td>2699.958333</td>\n",
       "      <td>33667</td>\n",
       "      <td>73.2</td>\n",
       "      <td>1</td>\n",
       "      <td>0</td>\n",
       "      <td>0</td>\n",
       "      <td>0</td>\n",
       "    </tr>\n",
       "    <tr>\n",
       "      <th>4</th>\n",
       "      <td>1</td>\n",
       "      <td>credit_card</td>\n",
       "      <td>0.1426</td>\n",
       "      <td>102.92</td>\n",
       "      <td>11.299732</td>\n",
       "      <td>14.97</td>\n",
       "      <td>667</td>\n",
       "      <td>4066.000000</td>\n",
       "      <td>4740</td>\n",
       "      <td>39.5</td>\n",
       "      <td>0</td>\n",
       "      <td>1</td>\n",
       "      <td>0</td>\n",
       "      <td>0</td>\n",
       "    </tr>\n",
       "  </tbody>\n",
       "</table>\n",
       "</div>"
      ],
      "text/plain": [
       "   credit.policy             purpose  int.rate  installment  log.annual.inc  \\\n",
       "0              1  debt_consolidation    0.1189       829.10       11.350407   \n",
       "1              1         credit_card    0.1071       228.22       11.082143   \n",
       "2              1  debt_consolidation    0.1357       366.86       10.373491   \n",
       "3              1  debt_consolidation    0.1008       162.34       11.350407   \n",
       "4              1         credit_card    0.1426       102.92       11.299732   \n",
       "\n",
       "     dti  fico  days.with.cr.line  revol.bal  revol.util  inq.last.6mths  \\\n",
       "0  19.48   737        5639.958333      28854        52.1               0   \n",
       "1  14.29   707        2760.000000      33623        76.7               0   \n",
       "2  11.63   682        4710.000000       3511        25.6               1   \n",
       "3   8.10   712        2699.958333      33667        73.2               1   \n",
       "4  14.97   667        4066.000000       4740        39.5               0   \n",
       "\n",
       "   delinq.2yrs  pub.rec  not.fully.paid  \n",
       "0            0        0               0  \n",
       "1            0        0               0  \n",
       "2            0        0               0  \n",
       "3            0        0               0  \n",
       "4            1        0               0  "
      ]
     },
     "execution_count": 31,
     "metadata": {},
     "output_type": "execute_result"
    }
   ],
   "source": [
    "data = pd.read_csv('../Data/loan_data.csv')\n",
    "data.head()"
   ]
  },
  {
   "cell_type": "code",
   "execution_count": 3,
   "id": "b6c1f6ca",
   "metadata": {},
   "outputs": [
    {
     "data": {
      "text/plain": [
       "Index(['credit.policy', 'purpose', 'int.rate', 'installment', 'log.annual.inc',\n",
       "       'dti', 'fico', 'days.with.cr.line', 'revol.bal', 'revol.util',\n",
       "       'inq.last.6mths', 'delinq.2yrs', 'pub.rec', 'not.fully.paid'],\n",
       "      dtype='object')"
      ]
     },
     "execution_count": 3,
     "metadata": {},
     "output_type": "execute_result"
    }
   ],
   "source": [
    "data.columns"
   ]
  },
  {
   "cell_type": "markdown",
   "id": "2f03bc23",
   "metadata": {
    "id": "2f03bc23"
   },
   "source": [
    "# <b><span style='color:#CDE8E5'>Step 2.1 |</span><span style='color:#4D869C'> Handling Missing Values</span></b>"
   ]
  },
  {
   "cell_type": "markdown",
   "id": "92ee871e",
   "metadata": {},
   "source": [
    "<div class=\"warning\" style='background-color:#B5EEF1; color: #4D869C; border-left: solid #4D869C 6px; border-radius: 4px; padding:0.9em;'>\n",
    "<span>\n",
    "<p>percentage of missing values</p>\n",
    "</span>\n",
    "</div>"
   ]
  },
  {
   "cell_type": "code",
   "execution_count": 4,
   "id": "2b43f73a",
   "metadata": {
    "colab": {
     "base_uri": "https://localhost:8080/"
    },
    "id": "2b43f73a",
    "outputId": "ccd0d02b-7bd2-493e-a116-11f54cd505c6"
   },
   "outputs": [
    {
     "data": {
      "text/plain": [
       "Series([], dtype: float64)"
      ]
     },
     "execution_count": 4,
     "metadata": {},
     "output_type": "execute_result"
    }
   ],
   "source": [
    "(data.isnull().sum()[data.isnull().sum() > 0] / data.shape[0]) * 100"
   ]
  },
  {
   "cell_type": "markdown",
   "id": "50c4dfcd",
   "metadata": {
    "id": "50c4dfcd"
   },
   "source": [
    "# <b><span style='color:#CDE8E5'>Step 2.2 |</span><span style='color:#4D869C'> Handling Duplicates</span></b>"
   ]
  },
  {
   "cell_type": "markdown",
   "id": "2e340bb5",
   "metadata": {},
   "source": [
    "<div class=\"warning\" style='background-color:#B5EEF1; color: #4D869C; border-left: solid #4D869C 6px; border-radius: 4px; padding:0.9em;'>\n",
    "<span>\n",
    "<p>Showing the number of duplicate rows</p>\n",
    "</span>\n",
    "</div>"
   ]
  },
  {
   "cell_type": "code",
   "execution_count": 5,
   "id": "6b4d8c34",
   "metadata": {
    "colab": {
     "base_uri": "https://localhost:8080/"
    },
    "id": "6b4d8c34",
    "outputId": "5b529598-267c-47d8-c772-1686b2ff37f9"
   },
   "outputs": [
    {
     "name": "stdout",
     "output_type": "stream",
     "text": [
      "\n",
      "The dataset contains 0 duplicate rows.\n"
     ]
    }
   ],
   "source": [
    "print(f\"\\nThe dataset contains {data.duplicated().sum()} duplicate rows.\")"
   ]
  },
  {
   "cell_type": "markdown",
   "id": "5d98971c",
   "metadata": {},
   "source": [
    "<div class=\"warning\" style='background-color:#B5EEF1; color: #4D869C; border-left: solid #4D869C 6px; border-radius: 4px; padding:0.9em;'>\n",
    "<span>\n",
    "<p>finding and show duplicated rows by following code:</p>\n",
    "<code style='background-color:#FFFFFF; color: #4D869C'>data[data.duplicated(keep=False)].head(5)</code>\n",
    "</span>\n",
    "</div>"
   ]
  },
  {
   "cell_type": "markdown",
   "id": "111a4eb0",
   "metadata": {
    "id": "111a4eb0"
   },
   "source": [
    "<a id=\"eda\"></a>\n",
    "# <p style=\"background-color: #4D869C; font-family:calibri; color:white; font-size:135%; font-family:Verdana; text-align:center; border-radius:15px 50px;  padding: 15px;\">Step 3 | Data Preprocessing:</p>\n",
    "⬆️ [Tabel of Contents](#contents_tabel)"
   ]
  },
  {
   "cell_type": "markdown",
   "id": "91c781c7",
   "metadata": {
    "id": "91c781c7"
   },
   "source": [
    "# <b><span style='color:#CDE8E5'>Step 3.1 |</span><span style='color:#4D869C'> Label Encoder:</span></b>"
   ]
  },
  {
   "cell_type": "code",
   "execution_count": 6,
   "id": "AvBaNCE1Y2iC",
   "metadata": {
    "colab": {
     "base_uri": "https://localhost:8080/",
     "height": 226
    },
    "id": "AvBaNCE1Y2iC",
    "outputId": "4dc700e0-f57e-426d-95fe-6ce7234feedc"
   },
   "outputs": [
    {
     "data": {
      "text/html": [
       "<div>\n",
       "<style scoped>\n",
       "    .dataframe tbody tr th:only-of-type {\n",
       "        vertical-align: middle;\n",
       "    }\n",
       "\n",
       "    .dataframe tbody tr th {\n",
       "        vertical-align: top;\n",
       "    }\n",
       "\n",
       "    .dataframe thead th {\n",
       "        text-align: right;\n",
       "    }\n",
       "</style>\n",
       "<table border=\"1\" class=\"dataframe\">\n",
       "  <thead>\n",
       "    <tr style=\"text-align: right;\">\n",
       "      <th></th>\n",
       "      <th>credit.policy</th>\n",
       "      <th>purpose</th>\n",
       "      <th>int.rate</th>\n",
       "      <th>installment</th>\n",
       "      <th>log.annual.inc</th>\n",
       "      <th>dti</th>\n",
       "      <th>fico</th>\n",
       "      <th>days.with.cr.line</th>\n",
       "      <th>revol.bal</th>\n",
       "      <th>revol.util</th>\n",
       "      <th>inq.last.6mths</th>\n",
       "      <th>delinq.2yrs</th>\n",
       "      <th>pub.rec</th>\n",
       "      <th>not.fully.paid</th>\n",
       "    </tr>\n",
       "  </thead>\n",
       "  <tbody>\n",
       "    <tr>\n",
       "      <th>0</th>\n",
       "      <td>1</td>\n",
       "      <td>2</td>\n",
       "      <td>0.1189</td>\n",
       "      <td>829.10</td>\n",
       "      <td>11.350407</td>\n",
       "      <td>19.48</td>\n",
       "      <td>737</td>\n",
       "      <td>5639.958333</td>\n",
       "      <td>28854</td>\n",
       "      <td>52.1</td>\n",
       "      <td>0</td>\n",
       "      <td>0</td>\n",
       "      <td>0</td>\n",
       "      <td>0</td>\n",
       "    </tr>\n",
       "    <tr>\n",
       "      <th>1</th>\n",
       "      <td>1</td>\n",
       "      <td>1</td>\n",
       "      <td>0.1071</td>\n",
       "      <td>228.22</td>\n",
       "      <td>11.082143</td>\n",
       "      <td>14.29</td>\n",
       "      <td>707</td>\n",
       "      <td>2760.000000</td>\n",
       "      <td>33623</td>\n",
       "      <td>76.7</td>\n",
       "      <td>0</td>\n",
       "      <td>0</td>\n",
       "      <td>0</td>\n",
       "      <td>0</td>\n",
       "    </tr>\n",
       "    <tr>\n",
       "      <th>2</th>\n",
       "      <td>1</td>\n",
       "      <td>2</td>\n",
       "      <td>0.1357</td>\n",
       "      <td>366.86</td>\n",
       "      <td>10.373491</td>\n",
       "      <td>11.63</td>\n",
       "      <td>682</td>\n",
       "      <td>4710.000000</td>\n",
       "      <td>3511</td>\n",
       "      <td>25.6</td>\n",
       "      <td>1</td>\n",
       "      <td>0</td>\n",
       "      <td>0</td>\n",
       "      <td>0</td>\n",
       "    </tr>\n",
       "    <tr>\n",
       "      <th>3</th>\n",
       "      <td>1</td>\n",
       "      <td>2</td>\n",
       "      <td>0.1008</td>\n",
       "      <td>162.34</td>\n",
       "      <td>11.350407</td>\n",
       "      <td>8.10</td>\n",
       "      <td>712</td>\n",
       "      <td>2699.958333</td>\n",
       "      <td>33667</td>\n",
       "      <td>73.2</td>\n",
       "      <td>1</td>\n",
       "      <td>0</td>\n",
       "      <td>0</td>\n",
       "      <td>0</td>\n",
       "    </tr>\n",
       "    <tr>\n",
       "      <th>4</th>\n",
       "      <td>1</td>\n",
       "      <td>1</td>\n",
       "      <td>0.1426</td>\n",
       "      <td>102.92</td>\n",
       "      <td>11.299732</td>\n",
       "      <td>14.97</td>\n",
       "      <td>667</td>\n",
       "      <td>4066.000000</td>\n",
       "      <td>4740</td>\n",
       "      <td>39.5</td>\n",
       "      <td>0</td>\n",
       "      <td>1</td>\n",
       "      <td>0</td>\n",
       "      <td>0</td>\n",
       "    </tr>\n",
       "  </tbody>\n",
       "</table>\n",
       "</div>"
      ],
      "text/plain": [
       "   credit.policy  purpose  int.rate  installment  log.annual.inc    dti  fico  \\\n",
       "0              1        2    0.1189       829.10       11.350407  19.48   737   \n",
       "1              1        1    0.1071       228.22       11.082143  14.29   707   \n",
       "2              1        2    0.1357       366.86       10.373491  11.63   682   \n",
       "3              1        2    0.1008       162.34       11.350407   8.10   712   \n",
       "4              1        1    0.1426       102.92       11.299732  14.97   667   \n",
       "\n",
       "   days.with.cr.line  revol.bal  revol.util  inq.last.6mths  delinq.2yrs  \\\n",
       "0        5639.958333      28854        52.1               0            0   \n",
       "1        2760.000000      33623        76.7               0            0   \n",
       "2        4710.000000       3511        25.6               1            0   \n",
       "3        2699.958333      33667        73.2               1            0   \n",
       "4        4066.000000       4740        39.5               0            1   \n",
       "\n",
       "   pub.rec  not.fully.paid  \n",
       "0        0               0  \n",
       "1        0               0  \n",
       "2        0               0  \n",
       "3        0               0  \n",
       "4        0               0  "
      ]
     },
     "execution_count": 6,
     "metadata": {},
     "output_type": "execute_result"
    }
   ],
   "source": [
    "from sklearn.preprocessing import LabelEncoder\n",
    "label_encoder = LabelEncoder()\n",
    "data['purpose'] = label_encoder.fit_transform(data['purpose'])\n",
    "data.head()"
   ]
  },
  {
   "cell_type": "markdown",
   "id": "004291e6",
   "metadata": {
    "id": "004291e6"
   },
   "source": [
    "# <b><span style='color:#CDE8E5'>Step 3.2 |</span><span style='color:#4D869C'> Normalize features</span></b>"
   ]
  },
  {
   "cell_type": "code",
   "execution_count": 7,
   "id": "UM1WQwwPuo8Q",
   "metadata": {
    "id": "UM1WQwwPuo8Q"
   },
   "outputs": [],
   "source": [
    "def normal_dis(data, feature:str):\n",
    "  # create new column\n",
    "  data[feature] = np.sqrt(data[feature])\n",
    "\n",
    "  # visualize\n",
    "  sns.histplot(x=data[feature], label=data[feature].name, kde =True)\n",
    "  plt.legend()\n",
    "  plt.title(f'Distribution of {data[feature].name}')\n",
    "  plt.show()"
   ]
  },
  {
   "cell_type": "code",
   "execution_count": 8,
   "id": "VGRmtNkr7PnM",
   "metadata": {
    "colab": {
     "base_uri": "https://localhost:8080/",
     "height": 947
    },
    "id": "VGRmtNkr7PnM",
    "outputId": "b558d036-d2b0-46e5-a14c-8a527bb69a94"
   },
   "outputs": [
    {
     "data": {
      "image/png": "[encoded data removed]",
      "text/plain": [
       "<Figure size 640x480 with 1 Axes>"
      ]
     },
     "metadata": {},
     "output_type": "display_data"
    },
    {
     "data": {
      "image/png": "[encoded data removed]",
      "text/plain": [
       "<Figure size 640x480 with 1 Axes>"
      ]
     },
     "metadata": {},
     "output_type": "display_data"
    }
   ],
   "source": [
    "unnormal_features = [\"revol.bal\", \"days.with.cr.line\"]\n",
    "for i in unnormal_features:\n",
    "  normal_dis(data, i)"
   ]
  },
  {
   "cell_type": "code",
   "execution_count": 9,
   "id": "QDAanPgCDqNr",
   "metadata": {
    "id": "QDAanPgCDqNr"
   },
   "outputs": [],
   "source": [
    "fico_labels = range(1,5)\n",
    "fico = pd.qcut(data[\"fico\"], q=4, labels=fico_labels)\n",
    "data[\"fico\"] = fico\n",
    "\n",
    "\n",
    "revol_util_labels = range(1,5)\n",
    "revol_util = pd.qcut(data[\"revol.util\"], q=4, labels=revol_util_labels)\n",
    "data[\"revol.util\"] = revol_util\n",
    "\n",
    "\n",
    "inq_last_6mths_labels = range(1,5)\n",
    "inq_last_6mths = pd.cut(data[\"inq.last.6mths\"], bins=4, labels= inq_last_6mths_labels)\n",
    "data[\"inq.last.6mths\"] = inq_last_6mths\n",
    "\n",
    "\n",
    "delinq_2yrs_labels = range(1,5)\n",
    "delinq_2yrs = pd.cut(data[\"delinq.2yrs\"], bins=4, labels= delinq_2yrs_labels)\n",
    "data[\"delinq.2yrs\"] = delinq_2yrs\n",
    "\n",
    "\n",
    "pub_rec_labels = range(1,5)\n",
    "pub_rec = pd.cut(data[\"pub.rec\"], bins=4, labels= pub_rec_labels)\n",
    "data[\"pub.rec\"] = pub_rec\n"
   ]
  },
  {
   "cell_type": "markdown",
   "id": "2nL1dvx5AdKg",
   "metadata": {
    "id": "2nL1dvx5AdKg"
   },
   "source": [
    "# <b><span style='color:#CDE8E5'>Step 3.3 |</span><span style='color:#4D869C'> Treating Imbalanced data</span></b>\n"
   ]
  },
  {
   "cell_type": "markdown",
   "id": "daa6dd7a",
   "metadata": {},
   "source": [
    "<div class=\"warning\" style='background-color:#B5EEF1; color: #4D869C; border-left: solid #4D869C 6px; border-radius: 4px; padding:0.9em;'>\n",
    "<span>\n",
    "<p>\n",
    "create two different dataframe of majority and minority class then upsampling minority class</p>\n",
    "<p>\n",
    "\n",
    "</span>\n",
    "</div>"
   ]
  },
  {
   "cell_type": "code",
   "execution_count": 10,
   "id": "f9ed3cdb",
   "metadata": {},
   "outputs": [],
   "source": [
    "df_majority = data[(data['not.fully.paid']==0)]\n",
    "df_minority = data[(data['not.fully.paid']==1)]\n",
    "\n",
    "df_minority_upsampled = resample(df_minority,\n",
    "                                 replace=True,    # sample with replacement\n",
    "                                 n_samples= 8045, # to match majority class\n",
    "                                 random_state=60)  # reproducible results"
   ]
  },
  {
   "cell_type": "markdown",
   "id": "851499af",
   "metadata": {},
   "source": [
    "<div class=\"warning\" style='background-color:#B5EEF1; color: #4D869C; border-left: solid #4D869C 6px; border-radius: 4px; padding:0.9em;'>\n",
    "<span>\n",
    "<p>\n",
    "Combine majority class with upsampled minority class</p>\n",
    "<p>\n",
    "\n",
    "</span>\n",
    "</div>"
   ]
  },
  {
   "cell_type": "code",
   "execution_count": 11,
   "id": "53111102",
   "metadata": {},
   "outputs": [],
   "source": [
    "data_upsampled = pd.concat([df_minority_upsampled, df_majority])"
   ]
  },
  {
   "cell_type": "markdown",
   "id": "145f8904",
   "metadata": {
    "id": "145f8904"
   },
   "source": [
    "# <b><span style='color:#CDE8E5'>Step 3.4 |</span><span style='color:#4D869C'> Split the Dataset:</span></b>"
   ]
  },
  {
   "cell_type": "code",
   "execution_count": 12,
   "id": "BniMzuL4A6oX",
   "metadata": {
    "colab": {
     "base_uri": "https://localhost:8080/"
    },
    "id": "BniMzuL4A6oX",
    "outputId": "48322287-3ab3-40bd-9cc0-f5ba53562d8a"
   },
   "outputs": [],
   "source": [
    "X = data_upsampled.iloc[:, :-1].values\n",
    "y = data_upsampled.iloc[:, -1].values"
   ]
  },
  {
   "cell_type": "code",
   "execution_count": 13,
   "id": "fe90a665",
   "metadata": {
    "id": "fe90a665"
   },
   "outputs": [],
   "source": [
    "X_train, X_test, y_train, y_test = train_test_split(X, y, train_size = 0.80, random_state =100)"
   ]
  },
  {
   "cell_type": "markdown",
   "id": "cd36a15f",
   "metadata": {
    "id": "cd36a15f"
   },
   "source": [
    "# <b><span style='color:#CDE8E5'>Step 3.5 |</span><span style='color:#4D869C'> Feature Scaling:</span></b>"
   ]
  },
  {
   "cell_type": "markdown",
   "id": "cdef3d1b",
   "metadata": {},
   "source": [
    "<div class=\"warning\" style='background-color:#B5EEF1; color: #4D869C; border-left: solid #4D869C 6px; border-radius: 4px; padding:0.9em;'>\n",
    "<span>\n",
    "<ol>\n",
    "  <li>Initialize the StandardScaler</li>\n",
    "  <li>Fit the scaler on the training data and transform it</li>\n",
    "  <li>Only transform the testing data</li>\n",
    "</ol>\n",
    "</span>\n",
    "</div>"
   ]
  },
  {
   "cell_type": "code",
   "execution_count": 14,
   "id": "dceaa39f",
   "metadata": {
    "id": "dceaa39f"
   },
   "outputs": [],
   "source": [
    "scaler = StandardScaler()\n",
    "X_train = scaler.fit_transform(X_train)\n",
    "X_test = scaler.transform(X_test)"
   ]
  },
  {
   "cell_type": "markdown",
   "id": "7849e1e8",
   "metadata": {
    "id": "7849e1e8"
   },
   "source": [
    "<a id=\"modeling\"></a>\n",
    "# <p style=\"background-color: #4D869C; font-family:calibri; color:white; font-size:135%; font-family:Verdana; text-align:center; border-radius:15px 50px;  padding: 15px;\">Step 4 | Neural Networks</p>\n",
    "⬆️ [Tabel of Contents](#contents_tabel)"
   ]
  },
  {
   "cell_type": "code",
   "execution_count": 15,
   "id": "Qd2lRJAiPdH9",
   "metadata": {
    "id": "Qd2lRJAiPdH9"
   },
   "outputs": [],
   "source": [
    "y_train = to_categorical(y_train, num_classes=2)\n",
    "y_test = to_categorical(y_test , num_classes=2)"
   ]
  },
  {
   "cell_type": "code",
   "execution_count": 16,
   "id": "d6f0d232",
   "metadata": {},
   "outputs": [],
   "source": [
    "initializer = tf.keras.initializers.HeNormal(seed=None)"
   ]
  },
  {
   "cell_type": "markdown",
   "id": "1504893b",
   "metadata": {},
   "source": [
    "<div class=\"warning\" style='background-color:#B5EEF1; color: #4D869C; border-left: solid #4D869C 6px; border-radius: 4px; padding:0.9em;'>\n",
    "<span>\n",
    "<p>Now we defining a model and then complie it</p>\n",
    "</span>\n",
    "</div>"
   ]
  },
  {
   "cell_type": "code",
   "execution_count": 17,
   "id": "b36d84d4",
   "metadata": {
    "id": "b36d84d4"
   },
   "outputs": [],
   "source": [
    "model = tf.keras.Sequential(\n",
    "    [\n",
    "        tf.keras.Input(shape=X_train.shape[1:]),\n",
    "        tf.keras.layers.Dense(256, activation=\"relu\", kernel_initializer=initializer),\n",
    "        tf.keras.layers.Dense(256, activation=\"relu\", kernel_initializer=initializer),\n",
    "        tf.keras.layers.BatchNormalization(axis=-1, momentum=0.99),\n",
    "        tf.keras.layers.Dense(128, activation=\"relu\", kernel_initializer=initializer),\n",
    "        tf.keras.layers.Dense(128, activation=\"relu\", kernel_initializer=initializer),\n",
    "        tf.keras.layers.BatchNormalization(axis=-1, momentum=0.99),\n",
    "        tf.keras.layers.Dense(64, activation=\"relu\", kernel_initializer=initializer),\n",
    "        tf.keras.layers.Dense(64, activation=\"relu\", kernel_initializer=initializer),\n",
    "        tf.keras.layers.Dense(2, activation=\"softmax\"),\n",
    "    ]\n",
    ")"
   ]
  },
  {
   "cell_type": "code",
   "execution_count": 18,
   "id": "d447d3fb",
   "metadata": {
    "id": "d447d3fb"
   },
   "outputs": [],
   "source": [
    "model.compile(optimizer=Adam(learning_rate=0.0001), loss=tf.keras.losses.CategoricalCrossentropy(), metrics=[tf.keras.metrics.CategoricalAccuracy()])"
   ]
  },
  {
   "cell_type": "code",
   "execution_count": 19,
   "id": "b_zuub6oK3Dk",
   "metadata": {
    "colab": {
     "base_uri": "https://localhost:8080/"
    },
    "id": "b_zuub6oK3Dk",
    "outputId": "a1cd8174-c37e-4317-88a5-280864f852ed"
   },
   "outputs": [
    {
     "data": {
      "text/html": [
       "<pre style=\"white-space:pre;overflow-x:auto;line-height:normal;font-family:Menlo,'DejaVu Sans Mono',consolas,'Courier New',monospace\"><span style=\"font-weight: bold\">Model: \"sequential\"</span>\n",
       "</pre>\n"
      ],
      "text/plain": [
       "\u001b[1mModel: \"sequential\"\u001b[0m\n"
      ]
     },
     "metadata": {},
     "output_type": "display_data"
    },
    {
     "data": {
      "text/html": [
       "<pre style=\"white-space:pre;overflow-x:auto;line-height:normal;font-family:Menlo,'DejaVu Sans Mono',consolas,'Courier New',monospace\">┏━━━━━━━━━━━━━━━━━━━━━━━━━━━━━━━━━━━━━━┳━━━━━━━━━━━━━━━━━━━━━━━━━━━━━┳━━━━━━━━━━━━━━━━━┓\n",
       "┃<span style=\"font-weight: bold\"> Layer (type)                         </span>┃<span style=\"font-weight: bold\"> Output Shape                </span>┃<span style=\"font-weight: bold\">         Param # </span>┃\n",
       "┡━━━━━━━━━━━━━━━━━━━━━━━━━━━━━━━━━━━━━━╇━━━━━━━━━━━━━━━━━━━━━━━━━━━━━╇━━━━━━━━━━━━━━━━━┩\n",
       "│ dense (<span style=\"color: #0087ff; text-decoration-color: #0087ff\">Dense</span>)                        │ (<span style=\"color: #00d7ff; text-decoration-color: #00d7ff\">None</span>, <span style=\"color: #00af00; text-decoration-color: #00af00\">256</span>)                 │           <span style=\"color: #00af00; text-decoration-color: #00af00\">3,584</span> │\n",
       "├──────────────────────────────────────┼─────────────────────────────┼─────────────────┤\n",
       "│ dense_1 (<span style=\"color: #0087ff; text-decoration-color: #0087ff\">Dense</span>)                      │ (<span style=\"color: #00d7ff; text-decoration-color: #00d7ff\">None</span>, <span style=\"color: #00af00; text-decoration-color: #00af00\">256</span>)                 │          <span style=\"color: #00af00; text-decoration-color: #00af00\">65,792</span> │\n",
       "├──────────────────────────────────────┼─────────────────────────────┼─────────────────┤\n",
       "│ batch_normalization                  │ (<span style=\"color: #00d7ff; text-decoration-color: #00d7ff\">None</span>, <span style=\"color: #00af00; text-decoration-color: #00af00\">256</span>)                 │           <span style=\"color: #00af00; text-decoration-color: #00af00\">1,024</span> │\n",
       "│ (<span style=\"color: #0087ff; text-decoration-color: #0087ff\">BatchNormalization</span>)                 │                             │                 │\n",
       "├──────────────────────────────────────┼─────────────────────────────┼─────────────────┤\n",
       "│ dense_2 (<span style=\"color: #0087ff; text-decoration-color: #0087ff\">Dense</span>)                      │ (<span style=\"color: #00d7ff; text-decoration-color: #00d7ff\">None</span>, <span style=\"color: #00af00; text-decoration-color: #00af00\">128</span>)                 │          <span style=\"color: #00af00; text-decoration-color: #00af00\">32,896</span> │\n",
       "├──────────────────────────────────────┼─────────────────────────────┼─────────────────┤\n",
       "│ dense_3 (<span style=\"color: #0087ff; text-decoration-color: #0087ff\">Dense</span>)                      │ (<span style=\"color: #00d7ff; text-decoration-color: #00d7ff\">None</span>, <span style=\"color: #00af00; text-decoration-color: #00af00\">128</span>)                 │          <span style=\"color: #00af00; text-decoration-color: #00af00\">16,512</span> │\n",
       "├──────────────────────────────────────┼─────────────────────────────┼─────────────────┤\n",
       "│ batch_normalization_1                │ (<span style=\"color: #00d7ff; text-decoration-color: #00d7ff\">None</span>, <span style=\"color: #00af00; text-decoration-color: #00af00\">128</span>)                 │             <span style=\"color: #00af00; text-decoration-color: #00af00\">512</span> │\n",
       "│ (<span style=\"color: #0087ff; text-decoration-color: #0087ff\">BatchNormalization</span>)                 │                             │                 │\n",
       "├──────────────────────────────────────┼─────────────────────────────┼─────────────────┤\n",
       "│ dense_4 (<span style=\"color: #0087ff; text-decoration-color: #0087ff\">Dense</span>)                      │ (<span style=\"color: #00d7ff; text-decoration-color: #00d7ff\">None</span>, <span style=\"color: #00af00; text-decoration-color: #00af00\">64</span>)                  │           <span style=\"color: #00af00; text-decoration-color: #00af00\">8,256</span> │\n",
       "├──────────────────────────────────────┼─────────────────────────────┼─────────────────┤\n",
       "│ dense_5 (<span style=\"color: #0087ff; text-decoration-color: #0087ff\">Dense</span>)                      │ (<span style=\"color: #00d7ff; text-decoration-color: #00d7ff\">None</span>, <span style=\"color: #00af00; text-decoration-color: #00af00\">64</span>)                  │           <span style=\"color: #00af00; text-decoration-color: #00af00\">4,160</span> │\n",
       "├──────────────────────────────────────┼─────────────────────────────┼─────────────────┤\n",
       "│ dense_6 (<span style=\"color: #0087ff; text-decoration-color: #0087ff\">Dense</span>)                      │ (<span style=\"color: #00d7ff; text-decoration-color: #00d7ff\">None</span>, <span style=\"color: #00af00; text-decoration-color: #00af00\">2</span>)                   │             <span style=\"color: #00af00; text-decoration-color: #00af00\">130</span> │\n",
       "└──────────────────────────────────────┴─────────────────────────────┴─────────────────┘\n",
       "</pre>\n"
      ],
      "text/plain": [
       "┏━━━━━━━━━━━━━━━━━━━━━━━━━━━━━━━━━━━━━━┳━━━━━━━━━━━━━━━━━━━━━━━━━━━━━┳━━━━━━━━━━━━━━━━━┓\n",
       "┃\u001b[1m \u001b[0m\u001b[1mLayer (type)                        \u001b[0m\u001b[1m \u001b[0m┃\u001b[1m \u001b[0m\u001b[1mOutput Shape               \u001b[0m\u001b[1m \u001b[0m┃\u001b[1m \u001b[0m\u001b[1m        Param #\u001b[0m\u001b[1m \u001b[0m┃\n",
       "┡━━━━━━━━━━━━━━━━━━━━━━━━━━━━━━━━━━━━━━╇━━━━━━━━━━━━━━━━━━━━━━━━━━━━━╇━━━━━━━━━━━━━━━━━┩\n",
       "│ dense (\u001b[38;5;33mDense\u001b[0m)                        │ (\u001b[38;5;45mNone\u001b[0m, \u001b[38;5;34m256\u001b[0m)                 │           \u001b[38;5;34m3,584\u001b[0m │\n",
       "├──────────────────────────────────────┼─────────────────────────────┼─────────────────┤\n",
       "│ dense_1 (\u001b[38;5;33mDense\u001b[0m)                      │ (\u001b[38;5;45mNone\u001b[0m, \u001b[38;5;34m256\u001b[0m)                 │          \u001b[38;5;34m65,792\u001b[0m │\n",
       "├──────────────────────────────────────┼─────────────────────────────┼─────────────────┤\n",
       "│ batch_normalization                  │ (\u001b[38;5;45mNone\u001b[0m, \u001b[38;5;34m256\u001b[0m)                 │           \u001b[38;5;34m1,024\u001b[0m │\n",
       "│ (\u001b[38;5;33mBatchNormalization\u001b[0m)                 │                             │                 │\n",
       "├──────────────────────────────────────┼─────────────────────────────┼─────────────────┤\n",
       "│ dense_2 (\u001b[38;5;33mDense\u001b[0m)                      │ (\u001b[38;5;45mNone\u001b[0m, \u001b[38;5;34m128\u001b[0m)                 │          \u001b[38;5;34m32,896\u001b[0m │\n",
       "├──────────────────────────────────────┼─────────────────────────────┼─────────────────┤\n",
       "│ dense_3 (\u001b[38;5;33mDense\u001b[0m)                      │ (\u001b[38;5;45mNone\u001b[0m, \u001b[38;5;34m128\u001b[0m)                 │          \u001b[38;5;34m16,512\u001b[0m │\n",
       "├──────────────────────────────────────┼─────────────────────────────┼─────────────────┤\n",
       "│ batch_normalization_1                │ (\u001b[38;5;45mNone\u001b[0m, \u001b[38;5;34m128\u001b[0m)                 │             \u001b[38;5;34m512\u001b[0m │\n",
       "│ (\u001b[38;5;33mBatchNormalization\u001b[0m)                 │                             │                 │\n",
       "├──────────────────────────────────────┼─────────────────────────────┼─────────────────┤\n",
       "│ dense_4 (\u001b[38;5;33mDense\u001b[0m)                      │ (\u001b[38;5;45mNone\u001b[0m, \u001b[38;5;34m64\u001b[0m)                  │           \u001b[38;5;34m8,256\u001b[0m │\n",
       "├──────────────────────────────────────┼─────────────────────────────┼─────────────────┤\n",
       "│ dense_5 (\u001b[38;5;33mDense\u001b[0m)                      │ (\u001b[38;5;45mNone\u001b[0m, \u001b[38;5;34m64\u001b[0m)                  │           \u001b[38;5;34m4,160\u001b[0m │\n",
       "├──────────────────────────────────────┼─────────────────────────────┼─────────────────┤\n",
       "│ dense_6 (\u001b[38;5;33mDense\u001b[0m)                      │ (\u001b[38;5;45mNone\u001b[0m, \u001b[38;5;34m2\u001b[0m)                   │             \u001b[38;5;34m130\u001b[0m │\n",
       "└──────────────────────────────────────┴─────────────────────────────┴─────────────────┘\n"
      ]
     },
     "metadata": {},
     "output_type": "display_data"
    },
    {
     "data": {
      "text/html": [
       "<pre style=\"white-space:pre;overflow-x:auto;line-height:normal;font-family:Menlo,'DejaVu Sans Mono',consolas,'Courier New',monospace\"><span style=\"font-weight: bold\"> Total params: </span><span style=\"color: #00af00; text-decoration-color: #00af00\">132,866</span> (519.01 KB)\n",
       "</pre>\n"
      ],
      "text/plain": [
       "\u001b[1m Total params: \u001b[0m\u001b[38;5;34m132,866\u001b[0m (519.01 KB)\n"
      ]
     },
     "metadata": {},
     "output_type": "display_data"
    },
    {
     "data": {
      "text/html": [
       "<pre style=\"white-space:pre;overflow-x:auto;line-height:normal;font-family:Menlo,'DejaVu Sans Mono',consolas,'Courier New',monospace\"><span style=\"font-weight: bold\"> Trainable params: </span><span style=\"color: #00af00; text-decoration-color: #00af00\">132,098</span> (516.01 KB)\n",
       "</pre>\n"
      ],
      "text/plain": [
       "\u001b[1m Trainable params: \u001b[0m\u001b[38;5;34m132,098\u001b[0m (516.01 KB)\n"
      ]
     },
     "metadata": {},
     "output_type": "display_data"
    },
    {
     "data": {
      "text/html": [
       "<pre style=\"white-space:pre;overflow-x:auto;line-height:normal;font-family:Menlo,'DejaVu Sans Mono',consolas,'Courier New',monospace\"><span style=\"font-weight: bold\"> Non-trainable params: </span><span style=\"color: #00af00; text-decoration-color: #00af00\">768</span> (3.00 KB)\n",
       "</pre>\n"
      ],
      "text/plain": [
       "\u001b[1m Non-trainable params: \u001b[0m\u001b[38;5;34m768\u001b[0m (3.00 KB)\n"
      ]
     },
     "metadata": {},
     "output_type": "display_data"
    }
   ],
   "source": [
    "model.summary()"
   ]
  },
  {
   "cell_type": "markdown",
   "id": "e2f285b8",
   "metadata": {},
   "source": [
    "<div class=\"warning\" style='background-color:#B5EEF1; color: #4D869C; border-left: solid #4D869C 6px; border-radius: 4px; padding:0.9em;'>\n",
    "<span>\n",
    "<p>We can see the neural network architecture by the following code:</p>\n",
    "<p><code style='background-color:#FFFFFF; color: #4D869C'>plot_model(model, show_layer_activations=True, show_shapes=True)</code></p>\n",
    "<p>and then training the model :</p>\n",
    "</span>\n",
    "</div>"
   ]
  },
  {
   "cell_type": "code",
   "execution_count": 20,
   "id": "c57f818a",
   "metadata": {
    "colab": {
     "base_uri": "https://localhost:8080/"
    },
    "id": "c57f818a",
    "outputId": "ae3645f0-0fe1-4b94-beb4-5b1ddae3931c"
   },
   "outputs": [
    {
     "name": "stdout",
     "output_type": "stream",
     "text": [
      "Epoch 1/100\n",
      "\u001b[1m101/101\u001b[0m \u001b[32m━━━━━━━━━━━━━━━━━━━━\u001b[0m\u001b[37m\u001b[0m \u001b[1m3s\u001b[0m 7ms/step - categorical_accuracy: 0.5531 - loss: 0.8803 - val_categorical_accuracy: 0.5976 - val_loss: 0.6740\n",
      "Epoch 2/100\n",
      "\u001b[1m101/101\u001b[0m \u001b[32m━━━━━━━━━━━━━━━━━━━━\u001b[0m\u001b[37m\u001b[0m \u001b[1m0s\u001b[0m 5ms/step - categorical_accuracy: 0.6461 - loss: 0.6274 - val_categorical_accuracy: 0.6352 - val_loss: 0.6336\n",
      "Epoch 3/100\n",
      "\u001b[1m101/101\u001b[0m \u001b[32m━━━━━━━━━━━━━━━━━━━━\u001b[0m\u001b[37m\u001b[0m \u001b[1m1s\u001b[0m 5ms/step - categorical_accuracy: 0.6872 - loss: 0.5842 - val_categorical_accuracy: 0.6700 - val_loss: 0.6007\n",
      "Epoch 4/100\n",
      "\u001b[1m101/101\u001b[0m \u001b[32m━━━━━━━━━━━━━━━━━━━━\u001b[0m\u001b[37m\u001b[0m \u001b[1m0s\u001b[0m 5ms/step - categorical_accuracy: 0.7228 - loss: 0.5514 - val_categorical_accuracy: 0.7032 - val_loss: 0.5705\n",
      "Epoch 5/100\n",
      "\u001b[1m101/101\u001b[0m \u001b[32m━━━━━━━━━━━━━━━━━━━━\u001b[0m\u001b[37m\u001b[0m \u001b[1m0s\u001b[0m 5ms/step - categorical_accuracy: 0.7471 - loss: 0.5155 - val_categorical_accuracy: 0.7197 - val_loss: 0.5537\n",
      "Epoch 6/100\n",
      "\u001b[1m101/101\u001b[0m \u001b[32m━━━━━━━━━━━━━━━━━━━━\u001b[0m\u001b[37m\u001b[0m \u001b[1m1s\u001b[0m 5ms/step - categorical_accuracy: 0.7700 - loss: 0.4954 - val_categorical_accuracy: 0.7387 - val_loss: 0.5326\n",
      "Epoch 7/100\n",
      "\u001b[1m101/101\u001b[0m \u001b[32m━━━━━━━━━━━━━━━━━━━━\u001b[0m\u001b[37m\u001b[0m \u001b[1m1s\u001b[0m 5ms/step - categorical_accuracy: 0.7859 - loss: 0.4679 - val_categorical_accuracy: 0.7561 - val_loss: 0.5119\n",
      "Epoch 8/100\n",
      "\u001b[1m101/101\u001b[0m \u001b[32m━━━━━━━━━━━━━━━━━━━━\u001b[0m\u001b[37m\u001b[0m \u001b[1m0s\u001b[0m 5ms/step - categorical_accuracy: 0.8052 - loss: 0.4516 - val_categorical_accuracy: 0.7676 - val_loss: 0.4939\n",
      "Epoch 9/100\n",
      "\u001b[1m101/101\u001b[0m \u001b[32m━━━━━━━━━━━━━━━━━━━━\u001b[0m\u001b[37m\u001b[0m \u001b[1m1s\u001b[0m 5ms/step - categorical_accuracy: 0.8113 - loss: 0.4327 - val_categorical_accuracy: 0.7819 - val_loss: 0.4733\n",
      "Epoch 10/100\n",
      "\u001b[1m101/101\u001b[0m \u001b[32m━━━━━━━━━━━━━━━━━━━━\u001b[0m\u001b[37m\u001b[0m \u001b[1m1s\u001b[0m 5ms/step - categorical_accuracy: 0.8282 - loss: 0.4062 - val_categorical_accuracy: 0.7996 - val_loss: 0.4605\n",
      "Epoch 11/100\n",
      "\u001b[1m101/101\u001b[0m \u001b[32m━━━━━━━━━━━━━━━━━━━━\u001b[0m\u001b[37m\u001b[0m \u001b[1m0s\u001b[0m 5ms/step - categorical_accuracy: 0.8469 - loss: 0.3866 - val_categorical_accuracy: 0.8030 - val_loss: 0.4484\n",
      "Epoch 12/100\n",
      "\u001b[1m101/101\u001b[0m \u001b[32m━━━━━━━━━━━━━━━━━━━━\u001b[0m\u001b[37m\u001b[0m \u001b[1m0s\u001b[0m 4ms/step - categorical_accuracy: 0.8594 - loss: 0.3663 - val_categorical_accuracy: 0.8176 - val_loss: 0.4290\n",
      "Epoch 13/100\n",
      "\u001b[1m101/101\u001b[0m \u001b[32m━━━━━━━━━━━━━━━━━━━━\u001b[0m\u001b[37m\u001b[0m \u001b[1m0s\u001b[0m 5ms/step - categorical_accuracy: 0.8704 - loss: 0.3399 - val_categorical_accuracy: 0.8167 - val_loss: 0.4142\n",
      "Epoch 14/100\n",
      "\u001b[1m101/101\u001b[0m \u001b[32m━━━━━━━━━━━━━━━━━━━━\u001b[0m\u001b[37m\u001b[0m \u001b[1m1s\u001b[0m 5ms/step - categorical_accuracy: 0.8765 - loss: 0.3256 - val_categorical_accuracy: 0.8226 - val_loss: 0.4067\n",
      "Epoch 15/100\n",
      "\u001b[1m101/101\u001b[0m \u001b[32m━━━━━━━━━━━━━━━━━━━━\u001b[0m\u001b[37m\u001b[0m \u001b[1m0s\u001b[0m 4ms/step - categorical_accuracy: 0.8865 - loss: 0.3065 - val_categorical_accuracy: 0.8362 - val_loss: 0.3919\n",
      "Epoch 16/100\n",
      "\u001b[1m101/101\u001b[0m \u001b[32m━━━━━━━━━━━━━━━━━━━━\u001b[0m\u001b[37m\u001b[0m \u001b[1m0s\u001b[0m 5ms/step - categorical_accuracy: 0.8929 - loss: 0.2894 - val_categorical_accuracy: 0.8375 - val_loss: 0.3822\n",
      "Epoch 17/100\n",
      "\u001b[1m101/101\u001b[0m \u001b[32m━━━━━━━━━━━━━━━━━━━━\u001b[0m\u001b[37m\u001b[0m \u001b[1m1s\u001b[0m 5ms/step - categorical_accuracy: 0.8998 - loss: 0.2773 - val_categorical_accuracy: 0.8484 - val_loss: 0.3622\n",
      "Epoch 18/100\n",
      "\u001b[1m101/101\u001b[0m \u001b[32m━━━━━━━━━━━━━━━━━━━━\u001b[0m\u001b[37m\u001b[0m \u001b[1m0s\u001b[0m 5ms/step - categorical_accuracy: 0.9099 - loss: 0.2548 - val_categorical_accuracy: 0.8502 - val_loss: 0.3595\n",
      "Epoch 19/100\n",
      "\u001b[1m101/101\u001b[0m \u001b[32m━━━━━━━━━━━━━━━━━━━━\u001b[0m\u001b[37m\u001b[0m \u001b[1m1s\u001b[0m 5ms/step - categorical_accuracy: 0.9120 - loss: 0.2461 - val_categorical_accuracy: 0.8586 - val_loss: 0.3397\n",
      "Epoch 20/100\n",
      "\u001b[1m101/101\u001b[0m \u001b[32m━━━━━━━━━━━━━━━━━━━━\u001b[0m\u001b[37m\u001b[0m \u001b[1m0s\u001b[0m 5ms/step - categorical_accuracy: 0.9198 - loss: 0.2352 - val_categorical_accuracy: 0.8639 - val_loss: 0.3357\n",
      "Epoch 21/100\n",
      "\u001b[1m101/101\u001b[0m \u001b[32m━━━━━━━━━━━━━━━━━━━━\u001b[0m\u001b[37m\u001b[0m \u001b[1m0s\u001b[0m 5ms/step - categorical_accuracy: 0.9242 - loss: 0.2190 - val_categorical_accuracy: 0.8630 - val_loss: 0.3282\n",
      "Epoch 22/100\n",
      "\u001b[1m101/101\u001b[0m \u001b[32m━━━━━━━━━━━━━━━━━━━━\u001b[0m\u001b[37m\u001b[0m \u001b[1m0s\u001b[0m 5ms/step - categorical_accuracy: 0.9291 - loss: 0.2046 - val_categorical_accuracy: 0.8741 - val_loss: 0.3100\n",
      "Epoch 23/100\n",
      "\u001b[1m101/101\u001b[0m \u001b[32m━━━━━━━━━━━━━━━━━━━━\u001b[0m\u001b[37m\u001b[0m \u001b[1m1s\u001b[0m 5ms/step - categorical_accuracy: 0.9293 - loss: 0.2008 - val_categorical_accuracy: 0.8773 - val_loss: 0.3007\n",
      "Epoch 24/100\n",
      "\u001b[1m101/101\u001b[0m \u001b[32m━━━━━━━━━━━━━━━━━━━━\u001b[0m\u001b[37m\u001b[0m \u001b[1m1s\u001b[0m 5ms/step - categorical_accuracy: 0.9370 - loss: 0.1818 - val_categorical_accuracy: 0.8807 - val_loss: 0.3030\n",
      "Epoch 25/100\n",
      "\u001b[1m101/101\u001b[0m \u001b[32m━━━━━━━━━━━━━━━━━━━━\u001b[0m\u001b[37m\u001b[0m \u001b[1m0s\u001b[0m 4ms/step - categorical_accuracy: 0.9451 - loss: 0.1713 - val_categorical_accuracy: 0.8884 - val_loss: 0.2940\n",
      "Epoch 26/100\n",
      "\u001b[1m101/101\u001b[0m \u001b[32m━━━━━━━━━━━━━━━━━━━━\u001b[0m\u001b[37m\u001b[0m \u001b[1m1s\u001b[0m 5ms/step - categorical_accuracy: 0.9447 - loss: 0.1625 - val_categorical_accuracy: 0.8800 - val_loss: 0.2996\n",
      "Epoch 27/100\n",
      "\u001b[1m101/101\u001b[0m \u001b[32m━━━━━━━━━━━━━━━━━━━━\u001b[0m\u001b[37m\u001b[0m \u001b[1m0s\u001b[0m 5ms/step - categorical_accuracy: 0.9511 - loss: 0.1477 - val_categorical_accuracy: 0.8884 - val_loss: 0.2910\n",
      "Epoch 28/100\n",
      "\u001b[1m101/101\u001b[0m \u001b[32m━━━━━━━━━━━━━━━━━━━━\u001b[0m\u001b[37m\u001b[0m \u001b[1m0s\u001b[0m 5ms/step - categorical_accuracy: 0.9544 - loss: 0.1473 - val_categorical_accuracy: 0.8903 - val_loss: 0.2908\n",
      "Epoch 29/100\n",
      "\u001b[1m101/101\u001b[0m \u001b[32m━━━━━━━━━━━━━━━━━━━━\u001b[0m\u001b[37m\u001b[0m \u001b[1m0s\u001b[0m 5ms/step - categorical_accuracy: 0.9562 - loss: 0.1378 - val_categorical_accuracy: 0.8950 - val_loss: 0.2806\n",
      "Epoch 30/100\n",
      "\u001b[1m101/101\u001b[0m \u001b[32m━━━━━━━━━━━━━━━━━━━━\u001b[0m\u001b[37m\u001b[0m \u001b[1m0s\u001b[0m 5ms/step - categorical_accuracy: 0.9584 - loss: 0.1315 - val_categorical_accuracy: 0.8947 - val_loss: 0.2916\n",
      "Epoch 31/100\n",
      "\u001b[1m101/101\u001b[0m \u001b[32m━━━━━━━━━━━━━━━━━━━━\u001b[0m\u001b[37m\u001b[0m \u001b[1m0s\u001b[0m 5ms/step - categorical_accuracy: 0.9625 - loss: 0.1225 - val_categorical_accuracy: 0.8915 - val_loss: 0.2768\n",
      "Epoch 32/100\n",
      "\u001b[1m101/101\u001b[0m \u001b[32m━━━━━━━━━━━━━━━━━━━━\u001b[0m\u001b[37m\u001b[0m \u001b[1m0s\u001b[0m 5ms/step - categorical_accuracy: 0.9609 - loss: 0.1217 - val_categorical_accuracy: 0.8956 - val_loss: 0.2830\n",
      "Epoch 33/100\n",
      "\u001b[1m101/101\u001b[0m \u001b[32m━━━━━━━━━━━━━━━━━━━━\u001b[0m\u001b[37m\u001b[0m \u001b[1m0s\u001b[0m 5ms/step - categorical_accuracy: 0.9633 - loss: 0.1156 - val_categorical_accuracy: 0.8971 - val_loss: 0.2741\n",
      "Epoch 34/100\n",
      "\u001b[1m101/101\u001b[0m \u001b[32m━━━━━━━━━━━━━━━━━━━━\u001b[0m\u001b[37m\u001b[0m \u001b[1m0s\u001b[0m 5ms/step - categorical_accuracy: 0.9687 - loss: 0.1008 - val_categorical_accuracy: 0.9006 - val_loss: 0.2788\n",
      "Epoch 35/100\n",
      "\u001b[1m101/101\u001b[0m \u001b[32m━━━━━━━━━━━━━━━━━━━━\u001b[0m\u001b[37m\u001b[0m \u001b[1m0s\u001b[0m 4ms/step - categorical_accuracy: 0.9681 - loss: 0.1057 - val_categorical_accuracy: 0.9015 - val_loss: 0.2724\n",
      "Epoch 36/100\n",
      "\u001b[1m101/101\u001b[0m \u001b[32m━━━━━━━━━━━━━━━━━━━━\u001b[0m\u001b[37m\u001b[0m \u001b[1m0s\u001b[0m 4ms/step - categorical_accuracy: 0.9650 - loss: 0.1071 - val_categorical_accuracy: 0.9077 - val_loss: 0.2688\n",
      "Epoch 37/100\n",
      "\u001b[1m101/101\u001b[0m \u001b[32m━━━━━━━━━━━━━━━━━━━━\u001b[0m\u001b[37m\u001b[0m \u001b[1m1s\u001b[0m 5ms/step - categorical_accuracy: 0.9750 - loss: 0.0881 - val_categorical_accuracy: 0.9096 - val_loss: 0.2625\n",
      "Epoch 38/100\n",
      "\u001b[1m101/101\u001b[0m \u001b[32m━━━━━━━━━━━━━━━━━━━━\u001b[0m\u001b[37m\u001b[0m \u001b[1m0s\u001b[0m 5ms/step - categorical_accuracy: 0.9716 - loss: 0.0898 - val_categorical_accuracy: 0.9074 - val_loss: 0.2809\n",
      "Epoch 39/100\n",
      "\u001b[1m101/101\u001b[0m \u001b[32m━━━━━━━━━━━━━━━━━━━━\u001b[0m\u001b[37m\u001b[0m \u001b[1m0s\u001b[0m 5ms/step - categorical_accuracy: 0.9760 - loss: 0.0800 - val_categorical_accuracy: 0.9124 - val_loss: 0.2606\n",
      "Epoch 40/100\n",
      "\u001b[1m101/101\u001b[0m \u001b[32m━━━━━━━━━━━━━━━━━━━━\u001b[0m\u001b[37m\u001b[0m \u001b[1m0s\u001b[0m 4ms/step - categorical_accuracy: 0.9764 - loss: 0.0795 - val_categorical_accuracy: 0.9002 - val_loss: 0.2872\n",
      "Epoch 41/100\n",
      "\u001b[1m101/101\u001b[0m \u001b[32m━━━━━━━━━━━━━━━━━━━━\u001b[0m\u001b[37m\u001b[0m \u001b[1m0s\u001b[0m 4ms/step - categorical_accuracy: 0.9769 - loss: 0.0747 - val_categorical_accuracy: 0.9108 - val_loss: 0.2787\n",
      "Epoch 42/100\n",
      "\u001b[1m101/101\u001b[0m \u001b[32m━━━━━━━━━━━━━━━━━━━━\u001b[0m\u001b[37m\u001b[0m \u001b[1m0s\u001b[0m 4ms/step - categorical_accuracy: 0.9777 - loss: 0.0777 - val_categorical_accuracy: 0.9124 - val_loss: 0.2756\n",
      "Epoch 43/100\n",
      "\u001b[1m101/101\u001b[0m \u001b[32m━━━━━━━━━━━━━━━━━━━━\u001b[0m\u001b[37m\u001b[0m \u001b[1m0s\u001b[0m 4ms/step - categorical_accuracy: 0.9770 - loss: 0.0721 - val_categorical_accuracy: 0.9102 - val_loss: 0.2685\n",
      "Epoch 44/100\n"
     ]
    },
    {
     "name": "stdout",
     "output_type": "stream",
     "text": [
      "\u001b[1m101/101\u001b[0m \u001b[32m━━━━━━━━━━━━━━━━━━━━\u001b[0m\u001b[37m\u001b[0m \u001b[1m0s\u001b[0m 4ms/step - categorical_accuracy: 0.9803 - loss: 0.0646 - val_categorical_accuracy: 0.9105 - val_loss: 0.2741\n",
      "Epoch 45/100\n",
      "\u001b[1m101/101\u001b[0m \u001b[32m━━━━━━━━━━━━━━━━━━━━\u001b[0m\u001b[37m\u001b[0m \u001b[1m0s\u001b[0m 5ms/step - categorical_accuracy: 0.9831 - loss: 0.0588 - val_categorical_accuracy: 0.9077 - val_loss: 0.2805\n",
      "Epoch 46/100\n",
      "\u001b[1m101/101\u001b[0m \u001b[32m━━━━━━━━━━━━━━━━━━━━\u001b[0m\u001b[37m\u001b[0m \u001b[1m0s\u001b[0m 4ms/step - categorical_accuracy: 0.9815 - loss: 0.0617 - val_categorical_accuracy: 0.9142 - val_loss: 0.2621\n",
      "Epoch 47/100\n",
      "\u001b[1m101/101\u001b[0m \u001b[32m━━━━━━━━━━━━━━━━━━━━\u001b[0m\u001b[37m\u001b[0m \u001b[1m0s\u001b[0m 5ms/step - categorical_accuracy: 0.9783 - loss: 0.0680 - val_categorical_accuracy: 0.9024 - val_loss: 0.3111\n",
      "Epoch 48/100\n",
      "\u001b[1m101/101\u001b[0m \u001b[32m━━━━━━━━━━━━━━━━━━━━\u001b[0m\u001b[37m\u001b[0m \u001b[1m0s\u001b[0m 5ms/step - categorical_accuracy: 0.9783 - loss: 0.0663 - val_categorical_accuracy: 0.9062 - val_loss: 0.3077\n",
      "Epoch 49/100\n",
      "\u001b[1m101/101\u001b[0m \u001b[32m━━━━━━━━━━━━━━━━━━━━\u001b[0m\u001b[37m\u001b[0m \u001b[1m0s\u001b[0m 5ms/step - categorical_accuracy: 0.9829 - loss: 0.0550 - val_categorical_accuracy: 0.9121 - val_loss: 0.2828\n",
      "Epoch 50/100\n",
      "\u001b[1m101/101\u001b[0m \u001b[32m━━━━━━━━━━━━━━━━━━━━\u001b[0m\u001b[37m\u001b[0m \u001b[1m0s\u001b[0m 5ms/step - categorical_accuracy: 0.9807 - loss: 0.0592 - val_categorical_accuracy: 0.9155 - val_loss: 0.2763\n",
      "Epoch 51/100\n",
      "\u001b[1m101/101\u001b[0m \u001b[32m━━━━━━━━━━━━━━━━━━━━\u001b[0m\u001b[37m\u001b[0m \u001b[1m0s\u001b[0m 4ms/step - categorical_accuracy: 0.9853 - loss: 0.0516 - val_categorical_accuracy: 0.9164 - val_loss: 0.2829\n",
      "Epoch 52/100\n",
      "\u001b[1m101/101\u001b[0m \u001b[32m━━━━━━━━━━━━━━━━━━━━\u001b[0m\u001b[37m\u001b[0m \u001b[1m0s\u001b[0m 4ms/step - categorical_accuracy: 0.9843 - loss: 0.0491 - val_categorical_accuracy: 0.9189 - val_loss: 0.2724\n",
      "Epoch 53/100\n",
      "\u001b[1m101/101\u001b[0m \u001b[32m━━━━━━━━━━━━━━━━━━━━\u001b[0m\u001b[37m\u001b[0m \u001b[1m0s\u001b[0m 4ms/step - categorical_accuracy: 0.9860 - loss: 0.0479 - val_categorical_accuracy: 0.9152 - val_loss: 0.2830\n",
      "Epoch 54/100\n",
      "\u001b[1m101/101\u001b[0m \u001b[32m━━━━━━━━━━━━━━━━━━━━\u001b[0m\u001b[37m\u001b[0m \u001b[1m0s\u001b[0m 4ms/step - categorical_accuracy: 0.9866 - loss: 0.0449 - val_categorical_accuracy: 0.9080 - val_loss: 0.3108\n",
      "Epoch 55/100\n",
      "\u001b[1m101/101\u001b[0m \u001b[32m━━━━━━━━━━━━━━━━━━━━\u001b[0m\u001b[37m\u001b[0m \u001b[1m0s\u001b[0m 5ms/step - categorical_accuracy: 0.9854 - loss: 0.0466 - val_categorical_accuracy: 0.9164 - val_loss: 0.2764\n",
      "Epoch 56/100\n",
      "\u001b[1m101/101\u001b[0m \u001b[32m━━━━━━━━━━━━━━━━━━━━\u001b[0m\u001b[37m\u001b[0m \u001b[1m1s\u001b[0m 5ms/step - categorical_accuracy: 0.9844 - loss: 0.0472 - val_categorical_accuracy: 0.9083 - val_loss: 0.3157\n",
      "Epoch 57/100\n",
      "\u001b[1m101/101\u001b[0m \u001b[32m━━━━━━━━━━━━━━━━━━━━\u001b[0m\u001b[37m\u001b[0m \u001b[1m0s\u001b[0m 4ms/step - categorical_accuracy: 0.9871 - loss: 0.0437 - val_categorical_accuracy: 0.9155 - val_loss: 0.2995\n",
      "Epoch 58/100\n",
      "\u001b[1m101/101\u001b[0m \u001b[32m━━━━━━━━━━━━━━━━━━━━\u001b[0m\u001b[37m\u001b[0m \u001b[1m1s\u001b[0m 5ms/step - categorical_accuracy: 0.9872 - loss: 0.0436 - val_categorical_accuracy: 0.9186 - val_loss: 0.2880\n",
      "Epoch 59/100\n",
      "\u001b[1m101/101\u001b[0m \u001b[32m━━━━━━━━━━━━━━━━━━━━\u001b[0m\u001b[37m\u001b[0m \u001b[1m0s\u001b[0m 5ms/step - categorical_accuracy: 0.9898 - loss: 0.0373 - val_categorical_accuracy: 0.9177 - val_loss: 0.2900\n",
      "Epoch 60/100\n",
      "\u001b[1m101/101\u001b[0m \u001b[32m━━━━━━━━━━━━━━━━━━━━\u001b[0m\u001b[37m\u001b[0m \u001b[1m1s\u001b[0m 5ms/step - categorical_accuracy: 0.9870 - loss: 0.0409 - val_categorical_accuracy: 0.9161 - val_loss: 0.3035\n",
      "Epoch 61/100\n",
      "\u001b[1m101/101\u001b[0m \u001b[32m━━━━━━━━━━━━━━━━━━━━\u001b[0m\u001b[37m\u001b[0m \u001b[1m0s\u001b[0m 5ms/step - categorical_accuracy: 0.9904 - loss: 0.0392 - val_categorical_accuracy: 0.9114 - val_loss: 0.3157\n",
      "Epoch 62/100\n",
      "\u001b[1m101/101\u001b[0m \u001b[32m━━━━━━━━━━━━━━━━━━━━\u001b[0m\u001b[37m\u001b[0m \u001b[1m0s\u001b[0m 4ms/step - categorical_accuracy: 0.9897 - loss: 0.0381 - val_categorical_accuracy: 0.9170 - val_loss: 0.3155\n",
      "Epoch 63/100\n",
      "\u001b[1m101/101\u001b[0m \u001b[32m━━━━━━━━━━━━━━━━━━━━\u001b[0m\u001b[37m\u001b[0m \u001b[1m0s\u001b[0m 4ms/step - categorical_accuracy: 0.9880 - loss: 0.0348 - val_categorical_accuracy: 0.9226 - val_loss: 0.2963\n",
      "Epoch 64/100\n",
      "\u001b[1m101/101\u001b[0m \u001b[32m━━━━━━━━━━━━━━━━━━━━\u001b[0m\u001b[37m\u001b[0m \u001b[1m0s\u001b[0m 5ms/step - categorical_accuracy: 0.9872 - loss: 0.0399 - val_categorical_accuracy: 0.9164 - val_loss: 0.3186\n",
      "Epoch 65/100\n",
      "\u001b[1m101/101\u001b[0m \u001b[32m━━━━━━━━━━━━━━━━━━━━\u001b[0m\u001b[37m\u001b[0m \u001b[1m0s\u001b[0m 4ms/step - categorical_accuracy: 0.9877 - loss: 0.0374 - val_categorical_accuracy: 0.9161 - val_loss: 0.3113\n",
      "Epoch 66/100\n",
      "\u001b[1m101/101\u001b[0m \u001b[32m━━━━━━━━━━━━━━━━━━━━\u001b[0m\u001b[37m\u001b[0m \u001b[1m0s\u001b[0m 4ms/step - categorical_accuracy: 0.9890 - loss: 0.0356 - val_categorical_accuracy: 0.9142 - val_loss: 0.3174\n",
      "Epoch 67/100\n",
      "\u001b[1m101/101\u001b[0m \u001b[32m━━━━━━━━━━━━━━━━━━━━\u001b[0m\u001b[37m\u001b[0m \u001b[1m0s\u001b[0m 4ms/step - categorical_accuracy: 0.9879 - loss: 0.0371 - val_categorical_accuracy: 0.9102 - val_loss: 0.3385\n",
      "Epoch 68/100\n",
      "\u001b[1m101/101\u001b[0m \u001b[32m━━━━━━━━━━━━━━━━━━━━\u001b[0m\u001b[37m\u001b[0m \u001b[1m0s\u001b[0m 5ms/step - categorical_accuracy: 0.9905 - loss: 0.0322 - val_categorical_accuracy: 0.9183 - val_loss: 0.3075\n",
      "Epoch 69/100\n",
      "\u001b[1m101/101\u001b[0m \u001b[32m━━━━━━━━━━━━━━━━━━━━\u001b[0m\u001b[37m\u001b[0m \u001b[1m0s\u001b[0m 5ms/step - categorical_accuracy: 0.9894 - loss: 0.0340 - val_categorical_accuracy: 0.9204 - val_loss: 0.3084\n",
      "Epoch 70/100\n",
      "\u001b[1m101/101\u001b[0m \u001b[32m━━━━━━━━━━━━━━━━━━━━\u001b[0m\u001b[37m\u001b[0m \u001b[1m0s\u001b[0m 4ms/step - categorical_accuracy: 0.9921 - loss: 0.0272 - val_categorical_accuracy: 0.9186 - val_loss: 0.3210\n",
      "Epoch 71/100\n",
      "\u001b[1m101/101\u001b[0m \u001b[32m━━━━━━━━━━━━━━━━━━━━\u001b[0m\u001b[37m\u001b[0m \u001b[1m0s\u001b[0m 5ms/step - categorical_accuracy: 0.9923 - loss: 0.0285 - val_categorical_accuracy: 0.9121 - val_loss: 0.3316\n",
      "Epoch 72/100\n",
      "\u001b[1m101/101\u001b[0m \u001b[32m━━━━━━━━━━━━━━━━━━━━\u001b[0m\u001b[37m\u001b[0m \u001b[1m1s\u001b[0m 5ms/step - categorical_accuracy: 0.9877 - loss: 0.0369 - val_categorical_accuracy: 0.9086 - val_loss: 0.3409\n",
      "Epoch 73/100\n",
      "\u001b[1m101/101\u001b[0m \u001b[32m━━━━━━━━━━━━━━━━━━━━\u001b[0m\u001b[37m\u001b[0m \u001b[1m0s\u001b[0m 4ms/step - categorical_accuracy: 0.9888 - loss: 0.0313 - val_categorical_accuracy: 0.9267 - val_loss: 0.2923\n",
      "Epoch 74/100\n",
      "\u001b[1m101/101\u001b[0m \u001b[32m━━━━━━━━━━━━━━━━━━━━\u001b[0m\u001b[37m\u001b[0m \u001b[1m0s\u001b[0m 4ms/step - categorical_accuracy: 0.9877 - loss: 0.0372 - val_categorical_accuracy: 0.9133 - val_loss: 0.3420\n",
      "Epoch 75/100\n",
      "\u001b[1m101/101\u001b[0m \u001b[32m━━━━━━━━━━━━━━━━━━━━\u001b[0m\u001b[37m\u001b[0m \u001b[1m0s\u001b[0m 4ms/step - categorical_accuracy: 0.9910 - loss: 0.0309 - val_categorical_accuracy: 0.9142 - val_loss: 0.3515\n",
      "Epoch 76/100\n",
      "\u001b[1m101/101\u001b[0m \u001b[32m━━━━━━━━━━━━━━━━━━━━\u001b[0m\u001b[37m\u001b[0m \u001b[1m0s\u001b[0m 5ms/step - categorical_accuracy: 0.9916 - loss: 0.0262 - val_categorical_accuracy: 0.9204 - val_loss: 0.3146\n",
      "Epoch 77/100\n",
      "\u001b[1m101/101\u001b[0m \u001b[32m━━━━━━━━━━━━━━━━━━━━\u001b[0m\u001b[37m\u001b[0m \u001b[1m0s\u001b[0m 5ms/step - categorical_accuracy: 0.9923 - loss: 0.0258 - val_categorical_accuracy: 0.9270 - val_loss: 0.2970\n",
      "Epoch 78/100\n",
      "\u001b[1m101/101\u001b[0m \u001b[32m━━━━━━━━━━━━━━━━━━━━\u001b[0m\u001b[37m\u001b[0m \u001b[1m0s\u001b[0m 4ms/step - categorical_accuracy: 0.9923 - loss: 0.0273 - val_categorical_accuracy: 0.9260 - val_loss: 0.2900\n",
      "Epoch 79/100\n",
      "\u001b[1m101/101\u001b[0m \u001b[32m━━━━━━━━━━━━━━━━━━━━\u001b[0m\u001b[37m\u001b[0m \u001b[1m0s\u001b[0m 4ms/step - categorical_accuracy: 0.9932 - loss: 0.0249 - val_categorical_accuracy: 0.9186 - val_loss: 0.3137\n",
      "Epoch 80/100\n",
      "\u001b[1m101/101\u001b[0m \u001b[32m━━━━━━━━━━━━━━━━━━━━\u001b[0m\u001b[37m\u001b[0m \u001b[1m1s\u001b[0m 5ms/step - categorical_accuracy: 0.9936 - loss: 0.0230 - val_categorical_accuracy: 0.9270 - val_loss: 0.2824\n",
      "Epoch 81/100\n",
      "\u001b[1m101/101\u001b[0m \u001b[32m━━━━━━━━━━━━━━━━━━━━\u001b[0m\u001b[37m\u001b[0m \u001b[1m0s\u001b[0m 5ms/step - categorical_accuracy: 0.9931 - loss: 0.0267 - val_categorical_accuracy: 0.9189 - val_loss: 0.3143\n",
      "Epoch 82/100\n",
      "\u001b[1m101/101\u001b[0m \u001b[32m━━━━━━━━━━━━━━━━━━━━\u001b[0m\u001b[37m\u001b[0m \u001b[1m0s\u001b[0m 4ms/step - categorical_accuracy: 0.9938 - loss: 0.0240 - val_categorical_accuracy: 0.9201 - val_loss: 0.3188\n",
      "Epoch 83/100\n",
      "\u001b[1m101/101\u001b[0m \u001b[32m━━━━━━━━━━━━━━━━━━━━\u001b[0m\u001b[37m\u001b[0m \u001b[1m0s\u001b[0m 4ms/step - categorical_accuracy: 0.9903 - loss: 0.0282 - val_categorical_accuracy: 0.9195 - val_loss: 0.3110\n",
      "Epoch 84/100\n",
      "\u001b[1m101/101\u001b[0m \u001b[32m━━━━━━━━━━━━━━━━━━━━\u001b[0m\u001b[37m\u001b[0m \u001b[1m0s\u001b[0m 4ms/step - categorical_accuracy: 0.9928 - loss: 0.0246 - val_categorical_accuracy: 0.9130 - val_loss: 0.3468\n",
      "Epoch 85/100\n",
      "\u001b[1m101/101\u001b[0m \u001b[32m━━━━━━━━━━━━━━━━━━━━\u001b[0m\u001b[37m\u001b[0m \u001b[1m0s\u001b[0m 4ms/step - categorical_accuracy: 0.9940 - loss: 0.0199 - val_categorical_accuracy: 0.9145 - val_loss: 0.3434\n",
      "Epoch 86/100\n",
      "\u001b[1m101/101\u001b[0m \u001b[32m━━━━━━━━━━━━━━━━━━━━\u001b[0m\u001b[37m\u001b[0m \u001b[1m0s\u001b[0m 4ms/step - categorical_accuracy: 0.9947 - loss: 0.0214 - val_categorical_accuracy: 0.9186 - val_loss: 0.3305\n",
      "Epoch 87/100\n"
     ]
    },
    {
     "name": "stdout",
     "output_type": "stream",
     "text": [
      "\u001b[1m101/101\u001b[0m \u001b[32m━━━━━━━━━━━━━━━━━━━━\u001b[0m\u001b[37m\u001b[0m \u001b[1m0s\u001b[0m 4ms/step - categorical_accuracy: 0.9917 - loss: 0.0235 - val_categorical_accuracy: 0.9217 - val_loss: 0.3189\n",
      "Epoch 88/100\n",
      "\u001b[1m101/101\u001b[0m \u001b[32m━━━━━━━━━━━━━━━━━━━━\u001b[0m\u001b[37m\u001b[0m \u001b[1m0s\u001b[0m 4ms/step - categorical_accuracy: 0.9948 - loss: 0.0189 - val_categorical_accuracy: 0.9093 - val_loss: 0.3717\n",
      "Epoch 89/100\n",
      "\u001b[1m101/101\u001b[0m \u001b[32m━━━━━━━━━━━━━━━━━━━━\u001b[0m\u001b[37m\u001b[0m \u001b[1m0s\u001b[0m 4ms/step - categorical_accuracy: 0.9929 - loss: 0.0240 - val_categorical_accuracy: 0.9226 - val_loss: 0.3081\n",
      "Epoch 90/100\n",
      "\u001b[1m101/101\u001b[0m \u001b[32m━━━━━━━━━━━━━━━━━━━━\u001b[0m\u001b[37m\u001b[0m \u001b[1m0s\u001b[0m 4ms/step - categorical_accuracy: 0.9889 - loss: 0.0305 - val_categorical_accuracy: 0.9208 - val_loss: 0.3280\n",
      "Epoch 91/100\n",
      "\u001b[1m101/101\u001b[0m \u001b[32m━━━━━━━━━━━━━━━━━━━━\u001b[0m\u001b[37m\u001b[0m \u001b[1m0s\u001b[0m 4ms/step - categorical_accuracy: 0.9933 - loss: 0.0235 - val_categorical_accuracy: 0.9158 - val_loss: 0.3576\n",
      "Epoch 92/100\n",
      "\u001b[1m101/101\u001b[0m \u001b[32m━━━━━━━━━━━━━━━━━━━━\u001b[0m\u001b[37m\u001b[0m \u001b[1m0s\u001b[0m 4ms/step - categorical_accuracy: 0.9927 - loss: 0.0268 - val_categorical_accuracy: 0.9229 - val_loss: 0.3196\n",
      "Epoch 93/100\n",
      "\u001b[1m101/101\u001b[0m \u001b[32m━━━━━━━━━━━━━━━━━━━━\u001b[0m\u001b[37m\u001b[0m \u001b[1m0s\u001b[0m 4ms/step - categorical_accuracy: 0.9918 - loss: 0.0231 - val_categorical_accuracy: 0.9149 - val_loss: 0.3379\n",
      "Epoch 94/100\n",
      "\u001b[1m101/101\u001b[0m \u001b[32m━━━━━━━━━━━━━━━━━━━━\u001b[0m\u001b[37m\u001b[0m \u001b[1m0s\u001b[0m 4ms/step - categorical_accuracy: 0.9923 - loss: 0.0225 - val_categorical_accuracy: 0.9108 - val_loss: 0.3664\n",
      "Epoch 95/100\n",
      "\u001b[1m101/101\u001b[0m \u001b[32m━━━━━━━━━━━━━━━━━━━━\u001b[0m\u001b[37m\u001b[0m \u001b[1m0s\u001b[0m 4ms/step - categorical_accuracy: 0.9924 - loss: 0.0246 - val_categorical_accuracy: 0.9133 - val_loss: 0.3572\n",
      "Epoch 96/100\n",
      "\u001b[1m101/101\u001b[0m \u001b[32m━━━━━━━━━━━━━━━━━━━━\u001b[0m\u001b[37m\u001b[0m \u001b[1m0s\u001b[0m 4ms/step - categorical_accuracy: 0.9927 - loss: 0.0207 - val_categorical_accuracy: 0.9155 - val_loss: 0.3309\n",
      "Epoch 97/100\n",
      "\u001b[1m101/101\u001b[0m \u001b[32m━━━━━━━━━━━━━━━━━━━━\u001b[0m\u001b[37m\u001b[0m \u001b[1m0s\u001b[0m 4ms/step - categorical_accuracy: 0.9908 - loss: 0.0250 - val_categorical_accuracy: 0.9155 - val_loss: 0.3523\n",
      "Epoch 98/100\n",
      "\u001b[1m101/101\u001b[0m \u001b[32m━━━━━━━━━━━━━━━━━━━━\u001b[0m\u001b[37m\u001b[0m \u001b[1m0s\u001b[0m 4ms/step - categorical_accuracy: 0.9931 - loss: 0.0228 - val_categorical_accuracy: 0.9158 - val_loss: 0.3412\n",
      "Epoch 99/100\n",
      "\u001b[1m101/101\u001b[0m \u001b[32m━━━━━━━━━━━━━━━━━━━━\u001b[0m\u001b[37m\u001b[0m \u001b[1m0s\u001b[0m 4ms/step - categorical_accuracy: 0.9923 - loss: 0.0202 - val_categorical_accuracy: 0.9173 - val_loss: 0.3461\n",
      "Epoch 100/100\n",
      "\u001b[1m101/101\u001b[0m \u001b[32m━━━━━━━━━━━━━━━━━━━━\u001b[0m\u001b[37m\u001b[0m \u001b[1m0s\u001b[0m 4ms/step - categorical_accuracy: 0.9939 - loss: 0.0196 - val_categorical_accuracy: 0.9192 - val_loss: 0.3310\n"
     ]
    },
    {
     "data": {
      "text/plain": [
       "<keras.src.callbacks.history.History at 0x1aae6509190>"
      ]
     },
     "execution_count": 20,
     "metadata": {},
     "output_type": "execute_result"
    }
   ],
   "source": [
    "model.fit(X_train, y_train, epochs=100, validation_data=(X_test, y_test), batch_size=128)"
   ]
  },
  {
   "cell_type": "markdown",
   "id": "c5ac6761",
   "metadata": {},
   "source": [
    "<div class=\"warning\" style='background-color:#B5EEF1; color: #4D869C; border-left: solid #4D869C 6px; border-radius: 4px; padding:0.9em;'>\n",
    "<span>\n",
    "<p>Now we go through the following steps to evaluate the model:</p>\n",
    "</span>\n",
    "</div>"
   ]
  },
  {
   "cell_type": "code",
   "execution_count": 21,
   "id": "b450e5ac",
   "metadata": {
    "colab": {
     "base_uri": "https://localhost:8080/"
    },
    "id": "b450e5ac",
    "outputId": "ea03970c-796b-41b3-efcc-be1c0cedf307"
   },
   "outputs": [
    {
     "name": "stdout",
     "output_type": "stream",
     "text": [
      "\u001b[1m101/101\u001b[0m \u001b[32m━━━━━━━━━━━━━━━━━━━━\u001b[0m\u001b[37m\u001b[0m \u001b[1m0s\u001b[0m 1ms/step - categorical_accuracy: 0.9151 - loss: 0.3323\n",
      "Loss: 0.33100032806396484, Accuracy: 0.9192044734954834\n"
     ]
    }
   ],
   "source": [
    "loss, accuracy = model.evaluate(X_test, y_test)\n",
    "print(f\"Loss: {loss}, Accuracy: {accuracy}\")"
   ]
  },
  {
   "cell_type": "code",
   "execution_count": 22,
   "id": "d89b2953",
   "metadata": {
    "colab": {
     "base_uri": "https://localhost:8080/"
    },
    "id": "d89b2953",
    "outputId": "82d972dd-f396-4f1f-87bb-65127ae3247c"
   },
   "outputs": [
    {
     "name": "stdout",
     "output_type": "stream",
     "text": [
      "\u001b[1m101/101\u001b[0m \u001b[32m━━━━━━━━━━━━━━━━━━━━\u001b[0m\u001b[37m\u001b[0m \u001b[1m0s\u001b[0m 2ms/step\n",
      "              precision    recall  f1-score   support\n",
      "\n",
      "           0       0.99      0.84      0.91      1580\n",
      "           1       0.87      0.99      0.93      1638\n",
      "\n",
      "    accuracy                           0.92      3218\n",
      "   macro avg       0.93      0.92      0.92      3218\n",
      "weighted avg       0.93      0.92      0.92      3218\n",
      "\n"
     ]
    }
   ],
   "source": [
    "y_pred = model.predict(X_test)\n",
    "y_pred_classes = np.argmax(y_pred, axis=1)\n",
    "y_true = np.argmax(y_test, axis=1)\n",
    "\n",
    "\n",
    "report = classification_report(y_true, y_pred_classes)\n",
    "print(report)"
   ]
  },
  {
   "cell_type": "code",
   "execution_count": 23,
   "id": "T6Ys8Gwty4y_",
   "metadata": {
    "colab": {
     "base_uri": "https://localhost:8080/",
     "height": 584
    },
    "id": "T6Ys8Gwty4y_",
    "outputId": "93fce5ae-4192-42d3-b6a1-71066c016c87"
   },
   "outputs": [
    {
     "data": {
      "image/png": "[encoded data removed]",
      "text/plain": [
       "<Figure size 800x600 with 2 Axes>"
      ]
     },
     "metadata": {},
     "output_type": "display_data"
    }
   ],
   "source": [
    "conf_matrix = confusion_matrix(y_true, y_pred_classes)\n",
    "\n",
    "plt.figure(figsize=(8, 6))\n",
    "sns.heatmap(conf_matrix, annot=True, cmap=\"Blues\", fmt=\"d\")\n",
    "plt.xlabel('Predicted labels')\n",
    "plt.ylabel('True labels')\n",
    "plt.title('Confusion Matrix Neural Networks')\n",
    "plt.show()"
   ]
  },
  {
   "cell_type": "markdown",
   "id": "d704fa02",
   "metadata": {},
   "source": [
    "<div class=\"warning\" style='background-color:#B5EEF1; color: #4D869C; border-left: solid #4D869C 6px; border-radius: 4px; padding:0.9em;'>\n",
    "<span>\n",
    "<p>Finally, by performing the following steps, we save the model with the values ​​obtained from the training</p>\n",
    "</span>\n",
    "</div>"
   ]
  },
  {
   "cell_type": "code",
   "execution_count": 24,
   "id": "7e11702a",
   "metadata": {},
   "outputs": [],
   "source": [
    "import pickle\n",
    "\n",
    "with open('label_encoder.h5', 'wb') as f:\n",
    "    pickle.dump(label_encoder, f)"
   ]
  },
  {
   "cell_type": "code",
   "execution_count": 25,
   "id": "69f13a59",
   "metadata": {},
   "outputs": [],
   "source": [
    "with open('scaler.h5', 'wb') as f:\n",
    "    pickle.dump(scaler, f)"
   ]
  },
  {
   "cell_type": "code",
   "execution_count": 26,
   "id": "8514eea3",
   "metadata": {},
   "outputs": [],
   "source": [
    "model.save(\"my_model.keras\")"
   ]
  },
  {
   "cell_type": "markdown",
   "id": "12314f3e",
   "metadata": {},
   "source": [
    "<div class=\"warning\" style='background-color:#B5EEF1; color: #4D869C; border-left: solid #4D869C 6px; border-radius: 4px; padding:0.9em;'>\n",
    "<span>\n",
    "<h2>Prediction:</h2>\n",
    "<h3>By doing the following steps, we make a prediction from a new data by the model we have trained</h3>\n",
    "</span>\n",
    "</div>"
   ]
  },
  {
   "cell_type": "code",
   "execution_count": 32,
   "id": "ca056536",
   "metadata": {},
   "outputs": [
    {
     "data": {
      "text/plain": [
       "[1,\n",
       " 'credit_card',\n",
       " 0.1071,\n",
       " 228.22,\n",
       " 11.08214255,\n",
       " 14.29,\n",
       " 707,\n",
       " 2760.0,\n",
       " 33623,\n",
       " 76.7,\n",
       " 0,\n",
       " 0,\n",
       " 0]"
      ]
     },
     "execution_count": 32,
     "metadata": {},
     "output_type": "execute_result"
    }
   ],
   "source": [
    "newx = list(data.iloc[1, :-1].values)\n",
    "newx"
   ]
  },
  {
   "cell_type": "markdown",
   "id": "4c149f87",
   "metadata": {},
   "source": [
    "<div class=\"warning\" style='background-color:#B5EEF1; color: #4D869C; border-left: solid #4D869C 6px; border-radius: 4px; padding:0.9em;'>\n",
    "<span>\n",
    "<p>Convert to DataFrame for easier processing</p>\n",
    "</span>\n",
    "</div>"
   ]
  },
  {
   "cell_type": "code",
   "execution_count": 33,
   "id": "58a5a4ed",
   "metadata": {},
   "outputs": [],
   "source": [
    "temp_df = pd.DataFrame([newx], columns=['credit.policy', 'purpose', 'int.rate', 'installment', 'log.annual.inc',\n",
    "       'dti', 'fico', 'days.with.cr.line', 'revol.bal', 'revol.util',\n",
    "       'inq.last.6mths', 'delinq.2yrs', 'pub.rec'])\n"
   ]
  },
  {
   "cell_type": "code",
   "execution_count": 34,
   "id": "5ec5c780",
   "metadata": {},
   "outputs": [],
   "source": [
    "import pickle\n",
    "\n",
    "with open('scaler.h5', 'rb') as f:\n",
    "    ss = pickle.load(f)\n",
    "\n",
    "# load label encoder\n",
    "with open('label_encoder.h5', 'rb') as f:\n",
    "    le = pickle.load(f)"
   ]
  },
  {
   "cell_type": "code",
   "execution_count": 35,
   "id": "7eb71954",
   "metadata": {},
   "outputs": [
    {
     "data": {
      "text/html": [
       "<div>\n",
       "<style scoped>\n",
       "    .dataframe tbody tr th:only-of-type {\n",
       "        vertical-align: middle;\n",
       "    }\n",
       "\n",
       "    .dataframe tbody tr th {\n",
       "        vertical-align: top;\n",
       "    }\n",
       "\n",
       "    .dataframe thead th {\n",
       "        text-align: right;\n",
       "    }\n",
       "</style>\n",
       "<table border=\"1\" class=\"dataframe\">\n",
       "  <thead>\n",
       "    <tr style=\"text-align: right;\">\n",
       "      <th></th>\n",
       "      <th>credit.policy</th>\n",
       "      <th>purpose</th>\n",
       "      <th>int.rate</th>\n",
       "      <th>installment</th>\n",
       "      <th>log.annual.inc</th>\n",
       "      <th>dti</th>\n",
       "      <th>fico</th>\n",
       "      <th>days.with.cr.line</th>\n",
       "      <th>revol.bal</th>\n",
       "      <th>revol.util</th>\n",
       "      <th>inq.last.6mths</th>\n",
       "      <th>delinq.2yrs</th>\n",
       "      <th>pub.rec</th>\n",
       "    </tr>\n",
       "  </thead>\n",
       "  <tbody>\n",
       "    <tr>\n",
       "      <th>0</th>\n",
       "      <td>1</td>\n",
       "      <td>1</td>\n",
       "      <td>0.1071</td>\n",
       "      <td>228.22</td>\n",
       "      <td>11.082143</td>\n",
       "      <td>14.29</td>\n",
       "      <td>707</td>\n",
       "      <td>2760.0</td>\n",
       "      <td>33623</td>\n",
       "      <td>76.7</td>\n",
       "      <td>0</td>\n",
       "      <td>0</td>\n",
       "      <td>0</td>\n",
       "    </tr>\n",
       "  </tbody>\n",
       "</table>\n",
       "</div>"
      ],
      "text/plain": [
       "   credit.policy  purpose  int.rate  installment  log.annual.inc    dti  fico  \\\n",
       "0              1        1    0.1071       228.22       11.082143  14.29   707   \n",
       "\n",
       "   days.with.cr.line  revol.bal  revol.util  inq.last.6mths  delinq.2yrs  \\\n",
       "0             2760.0      33623        76.7               0            0   \n",
       "\n",
       "   pub.rec  \n",
       "0        0  "
      ]
     },
     "execution_count": 35,
     "metadata": {},
     "output_type": "execute_result"
    }
   ],
   "source": [
    "temp_df[\"purpose\"] = le.transform(temp_df[\"purpose\"])\n",
    "temp_df"
   ]
  },
  {
   "cell_type": "code",
   "execution_count": 36,
   "id": "417631e7",
   "metadata": {},
   "outputs": [
    {
     "data": {
      "text/plain": [
       "array([[1.00000000e+00, 1.00000000e+00, 1.07100000e-01, 2.28220000e+02,\n",
       "        1.10821426e+01, 1.42900000e+01, 7.07000000e+02, 2.76000000e+03,\n",
       "        3.36230000e+04, 7.67000000e+01, 0.00000000e+00, 0.00000000e+00,\n",
       "        0.00000000e+00]])"
      ]
     },
     "execution_count": 36,
     "metadata": {},
     "output_type": "execute_result"
    }
   ],
   "source": [
    "temp_df.values"
   ]
  },
  {
   "cell_type": "code",
   "execution_count": 37,
   "id": "96c53951",
   "metadata": {},
   "outputs": [
    {
     "data": {
      "text/plain": [
       "array([[ 5.79264011e-01, -5.81390216e-01, -7.22990164e-01,\n",
       "        -4.71103739e-01,  2.75773603e-01,  2.09882418e-01,\n",
       "         6.37768904e+02,  1.49342334e+02,  4.08686190e+02,\n",
       "         6.68621827e+01, -5.69292112e+00, -1.44794789e+01,\n",
       "        -1.59534816e+01]])"
      ]
     },
     "execution_count": 37,
     "metadata": {},
     "output_type": "execute_result"
    }
   ],
   "source": [
    "newx = ss.transform(temp_df.iloc[:,:].values)\n",
    "newx"
   ]
  },
  {
   "cell_type": "code",
   "execution_count": 38,
   "id": "52420460",
   "metadata": {},
   "outputs": [
    {
     "data": {
      "text/plain": [
       "<Sequential name=sequential, built=True>"
      ]
     },
     "execution_count": 38,
     "metadata": {},
     "output_type": "execute_result"
    }
   ],
   "source": [
    "loaded_model = tf.keras.models.load_model(\"my_model.keras\")\n",
    "loaded_model"
   ]
  },
  {
   "cell_type": "code",
   "execution_count": 39,
   "id": "d47530d0",
   "metadata": {},
   "outputs": [
    {
     "name": "stdout",
     "output_type": "stream",
     "text": [
      "\u001b[1m1/1\u001b[0m \u001b[32m━━━━━━━━━━━━━━━━━━━━\u001b[0m\u001b[37m\u001b[0m \u001b[1m0s\u001b[0m 19ms/step\n",
      "\u001b[1m1/1\u001b[0m \u001b[32m━━━━━━━━━━━━━━━━━━━━\u001b[0m\u001b[37m\u001b[0m \u001b[1m0s\u001b[0m 97ms/step\n"
     ]
    }
   ],
   "source": [
    "assert np.allclose(model.predict(newx), loaded_model.predict(newx))"
   ]
  },
  {
   "cell_type": "code",
   "execution_count": null,
   "id": "c09d248a",
   "metadata": {},
   "outputs": [],
   "source": [
    "np.argmax(loaded_model.predict(newx), axis=1)[0]"
   ]
  },
  {
   "cell_type": "markdown",
   "id": "ffc8dc2e",
   "metadata": {
    "id": "FJjz_3vEctGe"
   },
   "source": [
    "<div class=\"warning\" style='background-color:#B5EEF1; color: #4D869C; border-left: solid #4D869C 6px; border-radius: 4px; padding:0.9em;'>\n",
    "<span>\n",
    "<h2><center>End</center></h2>\n",
    "<h3><center>Thank you for your patience</center></h3>\n",
    "</span>\n",
    "</div>"
   ]
  }
 ],
 "metadata": {
  "colab": {
   "provenance": []
  },
  "kernelspec": {
   "display_name": "Python 3 (ipykernel)",
   "language": "python",
   "name": "python3"
  },
  "language_info": {
   "codemirror_mode": {
    "name": "ipython",
    "version": 3
   },
   "file_extension": ".py",
   "mimetype": "text/x-python",
   "name": "python",
   "nbconvert_exporter": "python",
   "pygments_lexer": "ipython3",
   "version": "3.11.5"
  }
 },
 "nbformat": 4,
 "nbformat_minor": 5
}

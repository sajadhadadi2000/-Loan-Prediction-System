{
 "cells": [
  {
   "cell_type": "code",
   "execution_count": 2,
   "id": "51e5a455",
   "metadata": {
    "id": "51e5a455"
   },
   "outputs": [],
   "source": [
    "import numpy as np\n",
    "import pandas as pd\n",
    "import seaborn as sns\n",
    "import matplotlib.pyplot as plt\n",
    "\n",
    "from sklearn.ensemble import IsolationForest\n",
    "from sklearn.preprocessing import StandardScaler, Normalizer, OneHotEncoder\n",
    "from sklearn.model_selection import train_test_split, RandomizedSearchCV\n",
    "from sklearn.linear_model import LogisticRegression\n",
    "from sklearn.tree import DecisionTreeClassifier\n",
    "from sklearn.ensemble import RandomForestClassifier\n",
    "from xgboost import XGBClassifier\n",
    "from sklearn.svm import SVC\n",
    "from sklearn.metrics import confusion_matrix, f1_score, accuracy_score, classification_report\n",
    "from sklearn.utils import resample\n",
    "\n",
    "import tensorflow as tf\n",
    "from tensorflow.keras import regularizers\n",
    "from tensorflow.keras.utils import to_categorical, plot_model\n",
    "from tensorflow.keras.models import Sequential\n",
    "from tensorflow.keras.layers import Dense, SimpleRNN\n",
    "from tensorflow.keras.optimizers import Adam\n",
    "from tensorflow.keras.losses import BinaryCrossentropy\n",
    "\n",
    "# Ignore warnings\n",
    "import warnings\n",
    "warnings.filterwarnings('ignore')\n",
    "\n",
    "%matplotlib inline"
   ]
  },
  {
   "cell_type": "code",
   "execution_count": 3,
   "id": "c4ea0dfc",
   "metadata": {
    "colab": {
     "base_uri": "https://localhost:8080/",
     "height": 226
    },
    "id": "c4ea0dfc",
    "outputId": "334caacf-9f5c-46e1-82cb-59e3d36bc24d"
   },
   "outputs": [
    {
     "data": {
      "text/html": [
       "<div>\n",
       "<style scoped>\n",
       "    .dataframe tbody tr th:only-of-type {\n",
       "        vertical-align: middle;\n",
       "    }\n",
       "\n",
       "    .dataframe tbody tr th {\n",
       "        vertical-align: top;\n",
       "    }\n",
       "\n",
       "    .dataframe thead th {\n",
       "        text-align: right;\n",
       "    }\n",
       "</style>\n",
       "<table border=\"1\" class=\"dataframe\">\n",
       "  <thead>\n",
       "    <tr style=\"text-align: right;\">\n",
       "      <th></th>\n",
       "      <th>credit.policy</th>\n",
       "      <th>purpose</th>\n",
       "      <th>int.rate</th>\n",
       "      <th>installment</th>\n",
       "      <th>log.annual.inc</th>\n",
       "      <th>dti</th>\n",
       "      <th>fico</th>\n",
       "      <th>days.with.cr.line</th>\n",
       "      <th>revol.bal</th>\n",
       "      <th>revol.util</th>\n",
       "      <th>inq.last.6mths</th>\n",
       "      <th>delinq.2yrs</th>\n",
       "      <th>pub.rec</th>\n",
       "      <th>not.fully.paid</th>\n",
       "    </tr>\n",
       "  </thead>\n",
       "  <tbody>\n",
       "    <tr>\n",
       "      <th>0</th>\n",
       "      <td>1</td>\n",
       "      <td>debt_consolidation</td>\n",
       "      <td>0.1189</td>\n",
       "      <td>829.10</td>\n",
       "      <td>11.350407</td>\n",
       "      <td>19.48</td>\n",
       "      <td>737</td>\n",
       "      <td>5639.958333</td>\n",
       "      <td>28854</td>\n",
       "      <td>52.1</td>\n",
       "      <td>0</td>\n",
       "      <td>0</td>\n",
       "      <td>0</td>\n",
       "      <td>0</td>\n",
       "    </tr>\n",
       "    <tr>\n",
       "      <th>1</th>\n",
       "      <td>1</td>\n",
       "      <td>credit_card</td>\n",
       "      <td>0.1071</td>\n",
       "      <td>228.22</td>\n",
       "      <td>11.082143</td>\n",
       "      <td>14.29</td>\n",
       "      <td>707</td>\n",
       "      <td>2760.000000</td>\n",
       "      <td>33623</td>\n",
       "      <td>76.7</td>\n",
       "      <td>0</td>\n",
       "      <td>0</td>\n",
       "      <td>0</td>\n",
       "      <td>0</td>\n",
       "    </tr>\n",
       "    <tr>\n",
       "      <th>2</th>\n",
       "      <td>1</td>\n",
       "      <td>debt_consolidation</td>\n",
       "      <td>0.1357</td>\n",
       "      <td>366.86</td>\n",
       "      <td>10.373491</td>\n",
       "      <td>11.63</td>\n",
       "      <td>682</td>\n",
       "      <td>4710.000000</td>\n",
       "      <td>3511</td>\n",
       "      <td>25.6</td>\n",
       "      <td>1</td>\n",
       "      <td>0</td>\n",
       "      <td>0</td>\n",
       "      <td>0</td>\n",
       "    </tr>\n",
       "    <tr>\n",
       "      <th>3</th>\n",
       "      <td>1</td>\n",
       "      <td>debt_consolidation</td>\n",
       "      <td>0.1008</td>\n",
       "      <td>162.34</td>\n",
       "      <td>11.350407</td>\n",
       "      <td>8.10</td>\n",
       "      <td>712</td>\n",
       "      <td>2699.958333</td>\n",
       "      <td>33667</td>\n",
       "      <td>73.2</td>\n",
       "      <td>1</td>\n",
       "      <td>0</td>\n",
       "      <td>0</td>\n",
       "      <td>0</td>\n",
       "    </tr>\n",
       "    <tr>\n",
       "      <th>4</th>\n",
       "      <td>1</td>\n",
       "      <td>credit_card</td>\n",
       "      <td>0.1426</td>\n",
       "      <td>102.92</td>\n",
       "      <td>11.299732</td>\n",
       "      <td>14.97</td>\n",
       "      <td>667</td>\n",
       "      <td>4066.000000</td>\n",
       "      <td>4740</td>\n",
       "      <td>39.5</td>\n",
       "      <td>0</td>\n",
       "      <td>1</td>\n",
       "      <td>0</td>\n",
       "      <td>0</td>\n",
       "    </tr>\n",
       "  </tbody>\n",
       "</table>\n",
       "</div>"
      ],
      "text/plain": [
       "   credit.policy             purpose  int.rate  installment  log.annual.inc  \\\n",
       "0              1  debt_consolidation    0.1189       829.10       11.350407   \n",
       "1              1         credit_card    0.1071       228.22       11.082143   \n",
       "2              1  debt_consolidation    0.1357       366.86       10.373491   \n",
       "3              1  debt_consolidation    0.1008       162.34       11.350407   \n",
       "4              1         credit_card    0.1426       102.92       11.299732   \n",
       "\n",
       "     dti  fico  days.with.cr.line  revol.bal  revol.util  inq.last.6mths  \\\n",
       "0  19.48   737        5639.958333      28854        52.1               0   \n",
       "1  14.29   707        2760.000000      33623        76.7               0   \n",
       "2  11.63   682        4710.000000       3511        25.6               1   \n",
       "3   8.10   712        2699.958333      33667        73.2               1   \n",
       "4  14.97   667        4066.000000       4740        39.5               0   \n",
       "\n",
       "   delinq.2yrs  pub.rec  not.fully.paid  \n",
       "0            0        0               0  \n",
       "1            0        0               0  \n",
       "2            0        0               0  \n",
       "3            0        0               0  \n",
       "4            1        0               0  "
      ]
     },
     "execution_count": 3,
     "metadata": {},
     "output_type": "execute_result"
    }
   ],
   "source": [
    "data = pd.read_csv('../Data/loan_data.csv')\n",
    "data.head()"
   ]
  },
  {
   "cell_type": "code",
   "execution_count": 24,
   "id": "b6c1f6ca",
   "metadata": {},
   "outputs": [
    {
     "data": {
      "text/plain": [
       "Index(['credit.policy', 'purpose', 'int.rate', 'installment', 'log.annual.inc',\n",
       "       'dti', 'fico', 'days.with.cr.line', 'revol.bal', 'revol.util',\n",
       "       'inq.last.6mths', 'delinq.2yrs', 'pub.rec', 'not.fully.paid'],\n",
       "      dtype='object')"
      ]
     },
     "execution_count": 24,
     "metadata": {},
     "output_type": "execute_result"
    }
   ],
   "source": [
    "data.columns"
   ]
  },
  {
   "cell_type": "markdown",
   "id": "2f03bc23",
   "metadata": {
    "id": "2f03bc23"
   },
   "source": [
    "# <b><span style='color:#CDE8E5'>Step 2.1 |</span><span style='color:#4D869C'> Handling Missing Values</span></b>"
   ]
  },
  {
   "cell_type": "code",
   "execution_count": null,
   "id": "2b43f73a",
   "metadata": {
    "colab": {
     "base_uri": "https://localhost:8080/"
    },
    "id": "2b43f73a",
    "outputId": "ccd0d02b-7bd2-493e-a116-11f54cd505c6"
   },
   "outputs": [],
   "source": [
    "# percentage of missing values\n",
    "(data.isnull().sum()[data.isnull().sum() > 0] / data.shape[0]) * 100"
   ]
  },
  {
   "cell_type": "markdown",
   "id": "50c4dfcd",
   "metadata": {
    "id": "50c4dfcd"
   },
   "source": [
    "# <b><span style='color:#CDE8E5'>Step 2.2 |</span><span style='color:#4D869C'> Handling Duplicates</span></b>"
   ]
  },
  {
   "cell_type": "code",
   "execution_count": null,
   "id": "6b4d8c34",
   "metadata": {
    "colab": {
     "base_uri": "https://localhost:8080/"
    },
    "id": "6b4d8c34",
    "outputId": "5b529598-267c-47d8-c772-1686b2ff37f9"
   },
   "outputs": [],
   "source": [
    "# Showing the number of duplicate rows\n",
    "print(f\"\\nThe dataset contains {data.duplicated().sum()} duplicate rows.\")"
   ]
  },
  {
   "cell_type": "code",
   "execution_count": null,
   "id": "710d68a4",
   "metadata": {
    "id": "710d68a4"
   },
   "outputs": [],
   "source": [
    "# finding and show duplicated rows\n",
    "# data[data.duplicated(keep=False)].head(5)"
   ]
  },
  {
   "cell_type": "markdown",
   "id": "111a4eb0",
   "metadata": {
    "id": "111a4eb0"
   },
   "source": [
    "<a id=\"eda\"></a>\n",
    "# <p style=\"background-color: #4D869C; font-family:calibri; color:white; font-size:135%; font-family:Verdana; text-align:center; border-radius:15px 50px;  padding: 15px;\">Step 3 | Data Preprocessing:</p>\n",
    "⬆️ [Tabel of Contents](#contents_tabel)"
   ]
  },
  {
   "cell_type": "markdown",
   "id": "91c781c7",
   "metadata": {
    "id": "91c781c7"
   },
   "source": [
    "# <b><span style='color:#CDE8E5'>Step 3.1 |</span><span style='color:#4D869C'> Label Encoder:</span></b>"
   ]
  },
  {
   "cell_type": "code",
   "execution_count": null,
   "id": "AvBaNCE1Y2iC",
   "metadata": {
    "colab": {
     "base_uri": "https://localhost:8080/",
     "height": 226
    },
    "id": "AvBaNCE1Y2iC",
    "outputId": "4dc700e0-f57e-426d-95fe-6ce7234feedc"
   },
   "outputs": [],
   "source": [
    "from sklearn.preprocessing import LabelEncoder\n",
    "label_encoder = LabelEncoder()\n",
    "data['purpose'] = label_encoder.fit_transform(data['purpose'])\n",
    "data.head()"
   ]
  },
  {
   "cell_type": "markdown",
   "id": "004291e6",
   "metadata": {
    "id": "004291e6"
   },
   "source": [
    "# <b><span style='color:#CDE8E5'>Step 3.2 |</span><span style='color:#4D869C'> Normalize features</span></b>"
   ]
  },
  {
   "cell_type": "code",
   "execution_count": null,
   "id": "UM1WQwwPuo8Q",
   "metadata": {
    "id": "UM1WQwwPuo8Q"
   },
   "outputs": [],
   "source": [
    "def normal_dis(data, feature:str):\n",
    "  # create new column\n",
    "  data[feature] = np.sqrt(data[feature])\n",
    "\n",
    "  # visualize\n",
    "  sns.histplot(x=data[feature], label=data[feature].name, kde =True)\n",
    "  plt.legend()\n",
    "  plt.title(f'Distribution of {data[feature].name}')\n",
    "  plt.show()"
   ]
  },
  {
   "cell_type": "code",
   "execution_count": null,
   "id": "VGRmtNkr7PnM",
   "metadata": {
    "colab": {
     "base_uri": "https://localhost:8080/",
     "height": 947
    },
    "id": "VGRmtNkr7PnM",
    "outputId": "b558d036-d2b0-46e5-a14c-8a527bb69a94"
   },
   "outputs": [],
   "source": [
    "unnormal_features = [\"revol.bal\", \"days.with.cr.line\"]\n",
    "for i in unnormal_features:\n",
    "  normal_dis(data, i)"
   ]
  },
  {
   "cell_type": "code",
   "execution_count": null,
   "id": "QDAanPgCDqNr",
   "metadata": {
    "id": "QDAanPgCDqNr"
   },
   "outputs": [],
   "source": [
    "fico_labels = range(1,5)\n",
    "fico = pd.qcut(data[\"fico\"], q=4, labels=fico_labels)\n",
    "data[\"fico\"] = fico\n",
    "\n",
    "\n",
    "revol_util_labels = range(1,5)\n",
    "revol_util = pd.qcut(data[\"revol.util\"], q=4, labels=revol_util_labels)\n",
    "data[\"revol.util\"] = revol_util\n",
    "\n",
    "\n",
    "inq_last_6mths_labels = range(1,5)\n",
    "inq_last_6mths = pd.cut(data[\"inq.last.6mths\"], bins=4, labels= inq_last_6mths_labels)\n",
    "data[\"inq.last.6mths\"] = inq_last_6mths\n",
    "\n",
    "\n",
    "delinq_2yrs_labels = range(1,5)\n",
    "delinq_2yrs = pd.cut(data[\"delinq.2yrs\"], bins=4, labels= delinq_2yrs_labels)\n",
    "data[\"delinq.2yrs\"] = delinq_2yrs\n",
    "\n",
    "\n",
    "pub_rec_labels = range(1,5)\n",
    "pub_rec = pd.cut(data[\"pub.rec\"], bins=4, labels= pub_rec_labels)\n",
    "data[\"pub.rec\"] = pub_rec\n"
   ]
  },
  {
   "cell_type": "markdown",
   "id": "2nL1dvx5AdKg",
   "metadata": {
    "id": "2nL1dvx5AdKg"
   },
   "source": [
    "# <b><span style='color:#CDE8E5'>Step 3.3 |</span><span style='color:#4D869C'> Treating Imbalanced data</span></b>\n"
   ]
  },
  {
   "cell_type": "code",
   "execution_count": null,
   "id": "f9ed3cdb",
   "metadata": {},
   "outputs": [],
   "source": [
    "#create two different dataframe of majority and minority class\n",
    "df_majority = data[(data['not.fully.paid']==0)]\n",
    "df_minority = data[(data['not.fully.paid']==1)]\n",
    "# upsample minority class\n",
    "df_minority_upsampled = resample(df_minority,\n",
    "                                 replace=True,    # sample with replacement\n",
    "                                 n_samples= 8045, # to match majority class\n",
    "                                 random_state=60)  # reproducible results\n",
    "\n",
    "# Combine majority class with upsampled minority class\n",
    "data_upsampled = pd.concat([df_minority_upsampled, df_majority])"
   ]
  },
  {
   "cell_type": "code",
   "execution_count": null,
   "id": "3201806e",
   "metadata": {},
   "outputs": [],
   "source": [
    "\"\"\"\n",
    "from sklearn.utils import resample\n",
    "\n",
    "# Combine the training data\n",
    "X_train_combined = pd.concat(\n",
    "    [pd.DataFrame(X_train, columns=data.columns[:-1]), pd.DataFrame(y_train, columns=یی['not.fully.paid'])], \n",
    "    axis=1)\n",
    "X_train_combined\n",
    "\n",
    "# Separate the minority and majority classes\n",
    "not_fully_paid = X_train_combined[X_train_combined['not.fully.paid'] == 1]\n",
    "fully_paid = X_train_combined[X_train_combined['not.fully.paid'] == 0]\n",
    "\n",
    "# Upsample the minority class\n",
    "not_fully_paid_upsampled = resample(not_fully_paid,\n",
    "                                    replace=True, # sample with replacement\n",
    "                                    n_samples=len(fully_paid), # match number of majority class\n",
    "                                    random_state=42)\n",
    "\n",
    "# Combine the majority class with the upsampled minority class\n",
    "upsampled = pd.concat([fully_paid, not_fully_paid_upsampled])\n",
    "\n",
    "# Separate back into X and y\n",
    "X_train_upsampled = upsampled.drop('not.fully.paid', axis=1)\n",
    "y_train_upsampled = upsampled['not.fully.paid']\n",
    "\n",
    "\"\"\""
   ]
  },
  {
   "cell_type": "markdown",
   "id": "145f8904",
   "metadata": {
    "id": "145f8904"
   },
   "source": [
    "# <b><span style='color:#CDE8E5'>Step 3.4 |</span><span style='color:#4D869C'> Split the Dataset:</span></b>"
   ]
  },
  {
   "cell_type": "code",
   "execution_count": null,
   "id": "BniMzuL4A6oX",
   "metadata": {
    "colab": {
     "base_uri": "https://localhost:8080/"
    },
    "id": "BniMzuL4A6oX",
    "outputId": "48322287-3ab3-40bd-9cc0-f5ba53562d8a"
   },
   "outputs": [],
   "source": [
    "X = data_upsampled.iloc[:, :-1].values\n",
    "y = data_upsampled.iloc[:, -1].values"
   ]
  },
  {
   "cell_type": "code",
   "execution_count": null,
   "id": "fe90a665",
   "metadata": {
    "id": "fe90a665"
   },
   "outputs": [],
   "source": [
    "X_train, X_test, y_train, y_test = train_test_split(X, y, train_size = 0.80, random_state =100)"
   ]
  },
  {
   "cell_type": "markdown",
   "id": "cd36a15f",
   "metadata": {
    "id": "cd36a15f"
   },
   "source": [
    "# <b><span style='color:#CDE8E5'>Step 3.5 |</span><span style='color:#4D869C'> Feature Scaling:</span></b>"
   ]
  },
  {
   "cell_type": "code",
   "execution_count": null,
   "id": "dceaa39f",
   "metadata": {
    "id": "dceaa39f"
   },
   "outputs": [],
   "source": [
    "# Initialize the StandardScaler\n",
    "scaler = StandardScaler()\n",
    "\n",
    "# Fit the scaler on the training data and transform it\n",
    "X_train = scaler.fit_transform(X_train)\n",
    "\n",
    "# Only transform the testing data\n",
    "X_test = scaler.transform(X_test)"
   ]
  },
  {
   "cell_type": "markdown",
   "id": "7849e1e8",
   "metadata": {
    "id": "7849e1e8"
   },
   "source": [
    "<a id=\"modeling\"></a>\n",
    "# <p style=\"background-color: #4D869C; font-family:calibri; color:white; font-size:135%; font-family:Verdana; text-align:center; border-radius:15px 50px;  padding: 15px;\">Step 4 | Neural Networks</p>\n",
    "⬆️ [Tabel of Contents](#contents_tabel)"
   ]
  },
  {
   "cell_type": "code",
   "execution_count": null,
   "id": "Qd2lRJAiPdH9",
   "metadata": {
    "id": "Qd2lRJAiPdH9"
   },
   "outputs": [],
   "source": [
    "y_train = to_categorical(y_train, num_classes=2)\n",
    "y_test = to_categorical(y_test , num_classes=2)"
   ]
  },
  {
   "cell_type": "code",
   "execution_count": null,
   "id": "d6f0d232",
   "metadata": {},
   "outputs": [],
   "source": [
    "initializer = tf.keras.initializers.HeNormal(seed=None)"
   ]
  },
  {
   "cell_type": "code",
   "execution_count": null,
   "id": "b36d84d4",
   "metadata": {
    "id": "b36d84d4"
   },
   "outputs": [],
   "source": [
    "# Define the model\n",
    "model = tf.keras.Sequential(\n",
    "    [\n",
    "        tf.keras.Input(shape=X_train.shape[1:]),\n",
    "        tf.keras.layers.Dense(256, activation=\"relu\", kernel_initializer=initializer),\n",
    "        tf.keras.layers.Dense(256, activation=\"relu\", kernel_initializer=initializer),\n",
    "        tf.keras.layers.BatchNormalization(axis=-1, momentum=0.99),\n",
    "        tf.keras.layers.Dense(128, activation=\"relu\", kernel_initializer=initializer),\n",
    "        tf.keras.layers.Dense(128, activation=\"relu\", kernel_initializer=initializer),\n",
    "        tf.keras.layers.BatchNormalization(axis=-1, momentum=0.99),\n",
    "        tf.keras.layers.Dense(64, activation=\"relu\", kernel_initializer=initializer),\n",
    "        tf.keras.layers.Dense(64, activation=\"relu\", kernel_initializer=initializer),\n",
    "        tf.keras.layers.Dense(2, activation=\"softmax\"),\n",
    "    ]\n",
    ")"
   ]
  },
  {
   "cell_type": "code",
   "execution_count": null,
   "id": "d447d3fb",
   "metadata": {
    "id": "d447d3fb"
   },
   "outputs": [],
   "source": [
    "# Compile the model\n",
    "model.compile(optimizer=Adam(learning_rate=0.0001), loss=tf.keras.losses.CategoricalCrossentropy(), metrics=[tf.keras.metrics.CategoricalAccuracy()])"
   ]
  },
  {
   "cell_type": "code",
   "execution_count": null,
   "id": "b_zuub6oK3Dk",
   "metadata": {
    "colab": {
     "base_uri": "https://localhost:8080/"
    },
    "id": "b_zuub6oK3Dk",
    "outputId": "a1cd8174-c37e-4317-88a5-280864f852ed"
   },
   "outputs": [],
   "source": [
    "model.summary()"
   ]
  },
  {
   "cell_type": "code",
   "execution_count": null,
   "id": "NN9Bf-vuK-WW",
   "metadata": {
    "id": "NN9Bf-vuK-WW"
   },
   "outputs": [],
   "source": [
    "#plot_model(model, show_layer_activations=True, show_shapes=True)"
   ]
  },
  {
   "cell_type": "code",
   "execution_count": null,
   "id": "c57f818a",
   "metadata": {
    "colab": {
     "base_uri": "https://localhost:8080/"
    },
    "id": "c57f818a",
    "outputId": "ae3645f0-0fe1-4b94-beb4-5b1ddae3931c"
   },
   "outputs": [],
   "source": [
    "# Train the model\n",
    "model.fit(X_train, y_train, epochs=100, validation_data=(X_test, y_test), batch_size=128)"
   ]
  },
  {
   "cell_type": "code",
   "execution_count": null,
   "id": "b450e5ac",
   "metadata": {
    "colab": {
     "base_uri": "https://localhost:8080/"
    },
    "id": "b450e5ac",
    "outputId": "ea03970c-796b-41b3-efcc-be1c0cedf307"
   },
   "outputs": [],
   "source": [
    "# Evaluate the model\n",
    "loss, accuracy = model.evaluate(X_test, y_test)\n",
    "print(f\"Loss: {loss}, Accuracy: {accuracy}\")"
   ]
  },
  {
   "cell_type": "code",
   "execution_count": null,
   "id": "d89b2953",
   "metadata": {
    "colab": {
     "base_uri": "https://localhost:8080/"
    },
    "id": "d89b2953",
    "outputId": "82d972dd-f396-4f1f-87bb-65127ae3247c"
   },
   "outputs": [],
   "source": [
    "# Predict the labels for the test set\n",
    "y_pred = model.predict(X_test)\n",
    "y_pred_classes = np.argmax(y_pred, axis=1)\n",
    "y_true = np.argmax(y_test, axis=1)\n",
    "\n",
    "# Generate classification report\n",
    "report = classification_report(y_true, y_pred_classes)\n",
    "print(report)"
   ]
  },
  {
   "cell_type": "code",
   "execution_count": null,
   "id": "T6Ys8Gwty4y_",
   "metadata": {
    "colab": {
     "base_uri": "https://localhost:8080/",
     "height": 584
    },
    "id": "T6Ys8Gwty4y_",
    "outputId": "93fce5ae-4192-42d3-b6a1-71066c016c87"
   },
   "outputs": [],
   "source": [
    "conf_matrix = confusion_matrix(y_true, y_pred_classes)\n",
    "\n",
    "plt.figure(figsize=(8, 6))\n",
    "sns.heatmap(conf_matrix, annot=True, cmap=\"Blues\", fmt=\"d\")\n",
    "plt.xlabel('Predicted labels')\n",
    "plt.ylabel('True labels')\n",
    "plt.title('Confusion Matrix Neural Networks')\n",
    "plt.show()"
   ]
  },
  {
   "cell_type": "code",
   "execution_count": null,
   "id": "7e11702a",
   "metadata": {},
   "outputs": [],
   "source": [
    "import pickle\n",
    "\n",
    "# save label encoder\n",
    "with open('label_encoder.h5', 'wb') as f:\n",
    "    pickle.dump(label_encoder, f)"
   ]
  },
  {
   "cell_type": "code",
   "execution_count": null,
   "id": "69f13a59",
   "metadata": {},
   "outputs": [],
   "source": [
    "# save Scaler\n",
    "with open('scaler.h5', 'wb') as f:\n",
    "    pickle.dump(scaler, f)"
   ]
  },
  {
   "cell_type": "code",
   "execution_count": null,
   "id": "8514eea3",
   "metadata": {},
   "outputs": [],
   "source": [
    "model.save(\"my_model.keras\")"
   ]
  },
  {
   "cell_type": "markdown",
   "id": "12314f3e",
   "metadata": {},
   "source": [
    "## predict"
   ]
  },
  {
   "cell_type": "code",
   "execution_count": 20,
   "id": "ca056536",
   "metadata": {},
   "outputs": [
    {
     "data": {
      "text/plain": [
       "[1,\n",
       " 'credit_card',\n",
       " 0.1071,\n",
       " 228.22,\n",
       " 11.08214255,\n",
       " 14.29,\n",
       " 707,\n",
       " 2760.0,\n",
       " 33623,\n",
       " 76.7,\n",
       " 0,\n",
       " 0,\n",
       " 0]"
      ]
     },
     "execution_count": 20,
     "metadata": {},
     "output_type": "execute_result"
    }
   ],
   "source": [
    "newx = list(data.iloc[1, :-1].values)\n",
    "newx"
   ]
  },
  {
   "cell_type": "code",
   "execution_count": 25,
   "id": "58a5a4ed",
   "metadata": {},
   "outputs": [
    {
     "data": {
      "text/html": [
       "<div>\n",
       "<style scoped>\n",
       "    .dataframe tbody tr th:only-of-type {\n",
       "        vertical-align: middle;\n",
       "    }\n",
       "\n",
       "    .dataframe tbody tr th {\n",
       "        vertical-align: top;\n",
       "    }\n",
       "\n",
       "    .dataframe thead th {\n",
       "        text-align: right;\n",
       "    }\n",
       "</style>\n",
       "<table border=\"1\" class=\"dataframe\">\n",
       "  <thead>\n",
       "    <tr style=\"text-align: right;\">\n",
       "      <th></th>\n",
       "      <th>credit.policy</th>\n",
       "      <th>purpose</th>\n",
       "      <th>int.rate</th>\n",
       "      <th>installment</th>\n",
       "      <th>log.annual.inc</th>\n",
       "      <th>dti</th>\n",
       "      <th>fico</th>\n",
       "      <th>days.with.cr.line</th>\n",
       "      <th>revol.bal</th>\n",
       "      <th>revol.util</th>\n",
       "      <th>inq.last.6mths</th>\n",
       "      <th>delinq.2yrs</th>\n",
       "      <th>pub.rec</th>\n",
       "    </tr>\n",
       "  </thead>\n",
       "  <tbody>\n",
       "    <tr>\n",
       "      <th>0</th>\n",
       "      <td>1</td>\n",
       "      <td>credit_card</td>\n",
       "      <td>0.1071</td>\n",
       "      <td>228.22</td>\n",
       "      <td>11.082143</td>\n",
       "      <td>14.29</td>\n",
       "      <td>707</td>\n",
       "      <td>2760.0</td>\n",
       "      <td>33623</td>\n",
       "      <td>76.7</td>\n",
       "      <td>0</td>\n",
       "      <td>0</td>\n",
       "      <td>0</td>\n",
       "    </tr>\n",
       "  </tbody>\n",
       "</table>\n",
       "</div>"
      ],
      "text/plain": [
       "   credit.policy      purpose  int.rate  installment  log.annual.inc    dti  \\\n",
       "0              1  credit_card    0.1071       228.22       11.082143  14.29   \n",
       "\n",
       "   fico  days.with.cr.line  revol.bal  revol.util  inq.last.6mths  \\\n",
       "0   707             2760.0      33623        76.7               0   \n",
       "\n",
       "   delinq.2yrs  pub.rec  \n",
       "0            0        0  "
      ]
     },
     "execution_count": 25,
     "metadata": {},
     "output_type": "execute_result"
    }
   ],
   "source": [
    "# Convert to DataFrame for easier processing\n",
    "temp_df = pd.DataFrame([newx], columns=['credit.policy', 'purpose', 'int.rate', 'installment', 'log.annual.inc',\n",
    "       'dti', 'fico', 'days.with.cr.line', 'revol.bal', 'revol.util',\n",
    "       'inq.last.6mths', 'delinq.2yrs', 'pub.rec'])\n"
   ]
  },
  {
   "cell_type": "code",
   "execution_count": 26,
   "id": "5ec5c780",
   "metadata": {},
   "outputs": [],
   "source": [
    "import pickle\n",
    "\n",
    "with open('scaler.h5', 'rb') as f:\n",
    "    ss = pickle.load(f)\n",
    "\n",
    "# load label encoder\n",
    "with open('label_encoder.h5', 'rb') as f:\n",
    "    le = pickle.load(f)"
   ]
  },
  {
   "cell_type": "code",
   "execution_count": 27,
   "id": "7eb71954",
   "metadata": {},
   "outputs": [
    {
     "data": {
      "text/html": [
       "<div>\n",
       "<style scoped>\n",
       "    .dataframe tbody tr th:only-of-type {\n",
       "        vertical-align: middle;\n",
       "    }\n",
       "\n",
       "    .dataframe tbody tr th {\n",
       "        vertical-align: top;\n",
       "    }\n",
       "\n",
       "    .dataframe thead th {\n",
       "        text-align: right;\n",
       "    }\n",
       "</style>\n",
       "<table border=\"1\" class=\"dataframe\">\n",
       "  <thead>\n",
       "    <tr style=\"text-align: right;\">\n",
       "      <th></th>\n",
       "      <th>credit.policy</th>\n",
       "      <th>purpose</th>\n",
       "      <th>int.rate</th>\n",
       "      <th>installment</th>\n",
       "      <th>log.annual.inc</th>\n",
       "      <th>dti</th>\n",
       "      <th>fico</th>\n",
       "      <th>days.with.cr.line</th>\n",
       "      <th>revol.bal</th>\n",
       "      <th>revol.util</th>\n",
       "      <th>inq.last.6mths</th>\n",
       "      <th>delinq.2yrs</th>\n",
       "      <th>pub.rec</th>\n",
       "    </tr>\n",
       "  </thead>\n",
       "  <tbody>\n",
       "    <tr>\n",
       "      <th>0</th>\n",
       "      <td>1</td>\n",
       "      <td>1</td>\n",
       "      <td>0.1071</td>\n",
       "      <td>228.22</td>\n",
       "      <td>11.082143</td>\n",
       "      <td>14.29</td>\n",
       "      <td>707</td>\n",
       "      <td>2760.0</td>\n",
       "      <td>33623</td>\n",
       "      <td>76.7</td>\n",
       "      <td>0</td>\n",
       "      <td>0</td>\n",
       "      <td>0</td>\n",
       "    </tr>\n",
       "  </tbody>\n",
       "</table>\n",
       "</div>"
      ],
      "text/plain": [
       "   credit.policy  purpose  int.rate  installment  log.annual.inc    dti  fico  \\\n",
       "0              1        1    0.1071       228.22       11.082143  14.29   707   \n",
       "\n",
       "   days.with.cr.line  revol.bal  revol.util  inq.last.6mths  delinq.2yrs  \\\n",
       "0             2760.0      33623        76.7               0            0   \n",
       "\n",
       "   pub.rec  \n",
       "0        0  "
      ]
     },
     "execution_count": 27,
     "metadata": {},
     "output_type": "execute_result"
    }
   ],
   "source": [
    "temp_df[\"purpose\"] = le.transform(temp_df[\"purpose\"])\n",
    "temp_df"
   ]
  },
  {
   "cell_type": "code",
   "execution_count": 34,
   "id": "417631e7",
   "metadata": {},
   "outputs": [
    {
     "data": {
      "text/plain": [
       "array([[1.00000000e+00, 1.00000000e+00, 1.07100000e-01, 2.28220000e+02,\n",
       "        1.10821426e+01, 1.42900000e+01, 7.07000000e+02, 2.76000000e+03,\n",
       "        3.36230000e+04, 7.67000000e+01, 0.00000000e+00, 0.00000000e+00,\n",
       "        0.00000000e+00]])"
      ]
     },
     "execution_count": 34,
     "metadata": {},
     "output_type": "execute_result"
    }
   ],
   "source": [
    "temp_df.values"
   ]
  },
  {
   "cell_type": "code",
   "execution_count": 33,
   "id": "96c53951",
   "metadata": {},
   "outputs": [
    {
     "data": {
      "text/plain": [
       "array([[ 0.57926401, -0.58139022, -0.72299016, -0.47110374,  0.2757736 ,\n",
       "         0.20988242,  0.03307794, -0.70941302,  0.38141814,  0.96282773,\n",
       "        -0.75152688, -0.31378359, -0.26952753]])"
      ]
     },
     "execution_count": 33,
     "metadata": {},
     "output_type": "execute_result"
    }
   ],
   "source": [
    "newx = ss.transform(temp_df.iloc[:,:].values)\n",
    "newx"
   ]
  },
  {
   "cell_type": "code",
   "execution_count": 29,
   "id": "52420460",
   "metadata": {},
   "outputs": [
    {
     "data": {
      "text/plain": [
       "<Sequential name=sequential, built=True>"
      ]
     },
     "execution_count": 29,
     "metadata": {},
     "output_type": "execute_result"
    }
   ],
   "source": [
    "loaded_model = tf.keras.models.load_model(\"my_model.keras\")\n",
    "loaded_model"
   ]
  },
  {
   "cell_type": "code",
   "execution_count": null,
   "id": "d47530d0",
   "metadata": {},
   "outputs": [],
   "source": [
    "assert np.allclose(model.predict(newx), loaded_model.predict(newx))"
   ]
  },
  {
   "cell_type": "code",
   "execution_count": 30,
   "id": "c09d248a",
   "metadata": {},
   "outputs": [
    {
     "name": "stdout",
     "output_type": "stream",
     "text": [
      "\u001b[1m1/1\u001b[0m \u001b[32m━━━━━━━━━━━━━━━━━━━━\u001b[0m\u001b[37m\u001b[0m \u001b[1m0s\u001b[0m 103ms/step\n"
     ]
    },
    {
     "data": {
      "text/plain": [
       "0"
      ]
     },
     "execution_count": 30,
     "metadata": {},
     "output_type": "execute_result"
    }
   ],
   "source": [
    "np.argmax(loaded_model.predict(newx), axis=1)[0]"
   ]
  },
  {
   "cell_type": "code",
   "execution_count": null,
   "id": "abcce9c6",
   "metadata": {},
   "outputs": [],
   "source": []
  },
  {
   "cell_type": "code",
   "execution_count": null,
   "id": "225a4fbf",
   "metadata": {},
   "outputs": [],
   "source": []
  },
  {
   "cell_type": "code",
   "execution_count": null,
   "id": "bd159a9c",
   "metadata": {},
   "outputs": [],
   "source": [
    "X_test[1, :].shape"
   ]
  },
  {
   "cell_type": "code",
   "execution_count": null,
   "id": "ea31366e",
   "metadata": {},
   "outputs": [],
   "source": [
    "model.predict(X_test)"
   ]
  },
  {
   "cell_type": "code",
   "execution_count": null,
   "id": "ceacd5d3",
   "metadata": {},
   "outputs": [],
   "source": [
    "np.argmax(model.predict(X_test), axis=1)"
   ]
  },
  {
   "cell_type": "code",
   "execution_count": null,
   "id": "0b7320c3",
   "metadata": {},
   "outputs": [],
   "source": [
    "y_true"
   ]
  },
  {
   "cell_type": "code",
   "execution_count": null,
   "id": "c74b1fa6",
   "metadata": {},
   "outputs": [],
   "source": [
    "new = X[1, :].reshape(1,-1)"
   ]
  },
  {
   "cell_type": "code",
   "execution_count": null,
   "id": "8825a5d0",
   "metadata": {},
   "outputs": [],
   "source": [
    "new"
   ]
  },
  {
   "cell_type": "code",
   "execution_count": null,
   "id": "c3bbdd36",
   "metadata": {},
   "outputs": [],
   "source": [
    "X[1:2, :]"
   ]
  },
  {
   "cell_type": "code",
   "execution_count": null,
   "id": "f1b955af",
   "metadata": {},
   "outputs": [],
   "source": [
    "model.predict(new)"
   ]
  },
  {
   "cell_type": "code",
   "execution_count": null,
   "id": "c0902818",
   "metadata": {},
   "outputs": [],
   "source": []
  },
  {
   "cell_type": "code",
   "execution_count": null,
   "id": "FJjz_3vEctGe",
   "metadata": {
    "id": "FJjz_3vEctGe"
   },
   "outputs": [],
   "source": [
    "# end"
   ]
  }
 ],
 "metadata": {
  "colab": {
   "provenance": []
  },
  "kernelspec": {
   "display_name": "Python 3 (ipykernel)",
   "language": "python",
   "name": "python3"
  },
  "language_info": {
   "codemirror_mode": {
    "name": "ipython",
    "version": 3
   },
   "file_extension": ".py",
   "mimetype": "text/x-python",
   "name": "python",
   "nbconvert_exporter": "python",
   "pygments_lexer": "ipython3",
   "version": "3.11.5"
  }
 },
 "nbformat": 4,
 "nbformat_minor": 5
}
